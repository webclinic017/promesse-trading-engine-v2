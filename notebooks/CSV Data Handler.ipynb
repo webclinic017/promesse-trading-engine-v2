{
 "cells": [
  {
   "cell_type": "code",
   "execution_count": 1,
   "metadata": {},
   "outputs": [],
   "source": [
    "import numpy as np\n",
    "import pandas as pd\n",
    "from datetime import datetime\n",
    "from pathlib import Path\n",
    "import peakutils\n",
    "from peakutils.plot import plot as pplot\n",
    "from matplotlib import pyplot\n",
    "\n",
    "import talib"
   ]
  },
  {
   "cell_type": "code",
   "execution_count": 2,
   "metadata": {},
   "outputs": [],
   "source": [
    "class CSVDataHandler:\n",
    "    def __init__(self, csv_dir, symbol_list, timeframe):\n",
    "        self.csv_dir = csv_dir\n",
    "        self.symbol_list = symbol_list\n",
    "        self.timeframe = timeframe\n",
    "        \n",
    "        self.symbol_data = dict()\n",
    "        self.latest_symbol_data = dict()\n",
    "        \n",
    "        self.continue_backtest = True\n",
    "        \n",
    "        self._import_symbol_data()\n",
    "        \n",
    "    def _import_symbol_data(self):\n",
    "        csv_files_path = f'{Path().absolute()}/{self.csv_dir}'\n",
    "        columns = ['datetime', 'open', 'high', 'low', 'close', 'volume']\n",
    "        combined_symbol_index = None\n",
    "        \n",
    "        for symbol in symbol_list:\n",
    "            symbol_csv_path = f'{csv_files_path}/{symbol}_{self.timeframe}.csv'\n",
    "            self.symbol_data[symbol] = pd.read_csv(symbol_csv_path, header=None, index_col=0, names=columns)\n",
    "            \n",
    "            self.symbol_data[symbol].index = pd.to_datetime(self.symbol_data[symbol].index, unit='ms')\n",
    "            self.symbol_data[symbol] = self.symbol_data[symbol].drop_duplicates()\n",
    "            self.symbol_data[symbol] = self.symbol_data[symbol].sort_index()\n",
    "            \n",
    "            if combined_symbol_index is None:\n",
    "                combined_symbol_index = self.symbol_data[symbol].index\n",
    "            else:\n",
    "                combined_symbol_index = combined_symbol_index.union(self.symbol_data[symbol].index)\n",
    "            \n",
    "            self.latest_symbol_data[symbol] = list()\n",
    "            \n",
    "        for symbol in symbol_list:\n",
    "            self.symbol_data[symbol] = self.symbol_data[symbol].reindex(index=combined_symbol_index, method='pad', fill_value=0).itertuples()\n",
    "            \n",
    "    def _get_new_bar(self, symbol):\n",
    "        for bar in self.symbol_data[symbol]:\n",
    "            yield bar\n",
    "            \n",
    "    def update_bars(self):\n",
    "        for symbol in self.symbol_list:\n",
    "            try:\n",
    "                bar = next(self._get_new_bar(symbol))\n",
    "            except StopIteration:\n",
    "                self.continue_backtest = False\n",
    "            else:\n",
    "                if bar is not None:\n",
    "                    self.latest_symbol_data[symbol].append(bar)\n",
    "                    \n",
    "    def get_latest_bar(self, symbol):\n",
    "        try:\n",
    "            return self.latest_symbol_data[symbol][-1]\n",
    "        except KeyError:\n",
    "            print(\"That symbol is not available in the historical data set.\")\n",
    "            raise\n",
    "            \n",
    "    def get_latest_bars(self, symbol, N=1):\n",
    "        try:\n",
    "            return np.array(self.latest_symbol_data[symbol][-N:])\n",
    "        except KeyError:\n",
    "            print(\"That symbol is not available in the historical data set.\")\n",
    "            raise\n",
    "            \n",
    "    def get_latest_bar_datetime(self, symbol):\n",
    "        try:\n",
    "            return self.latest_symbol_data[symbol][-1].Index\n",
    "        except KeyError:\n",
    "            print(\"That symbol is not available in the historical data set.\")\n",
    "            raise\n",
    "            \n",
    "    def get_latest_bar_value(self, symbol, value_type):\n",
    "        try:\n",
    "            return getattr(self.latest_symbol_data[symbol][-1], value_type)\n",
    "        except KeyError:\n",
    "            print(\"That symbol is not available in the historical data set.\")\n",
    "            raise\n",
    "            \n",
    "    def get_latest_bars_values(self, symbol, value_type, N=1):\n",
    "        try:\n",
    "            bars = self.latest_symbol_data[symbol][-N:]\n",
    "        except KeyError:\n",
    "            print(\"That symbol is not available in the historical data set.\")\n",
    "            raise\n",
    "        else:\n",
    "            return np.array([getattr(bar, value_type) for bar in bars])"
   ]
  },
  {
   "cell_type": "code",
   "execution_count": 287,
   "metadata": {},
   "outputs": [],
   "source": [
    "symbol_list = ['BTC-USDT']\n",
    "data_handler = CSVDataHandler('../exchange_data', symbol_list, timeframe='1h')"
   ]
  },
  {
   "cell_type": "code",
   "execution_count": 298,
   "metadata": {},
   "outputs": [],
   "source": [
    "data_points = 3360\n",
    "for i in range(3360):\n",
    "    data_handler.update_bars() "
   ]
  },
  {
   "cell_type": "code",
   "execution_count": 324,
   "metadata": {},
   "outputs": [],
   "source": [
    "datetimes = data_handler.get_latest_bars_values('BTC-USDT', 'Index', N=data_points)\n",
    "closes = data_handler.get_latest_bars_values('BTC-USDT', 'close', N=data_points)\n",
    "data = pd.DataFrame(data=closes, index=datetimes, columns=['close'])\n",
    "close_weekly = data.resample('W').agg({\n",
    "'close': lambda x: x[-1]\n",
    "})['close'].to_numpy()"
   ]
  },
  {
   "cell_type": "code",
   "execution_count": 3,
   "metadata": {},
   "outputs": [],
   "source": [
    "columns = {0: 'datetime', 1: 'open', 2: 'high', 3: 'low', 4: 'close', 5: 'volume'}\n",
    "btc = pd.read_json('../exchange_data/BTC-USDT_15m.json')"
   ]
  },
  {
   "cell_type": "code",
   "execution_count": 4,
   "metadata": {},
   "outputs": [],
   "source": [
    "btc = btc.rename(columns=columns)"
   ]
  },
  {
   "cell_type": "code",
   "execution_count": 5,
   "metadata": {},
   "outputs": [],
   "source": [
    "btc.to_csv('BTC-USDT_15m.csv', index=False, header=False)"
   ]
  },
  {
   "cell_type": "code",
   "execution_count": null,
   "metadata": {},
   "outputs": [],
   "source": []
  },
  {
   "cell_type": "code",
   "execution_count": null,
   "metadata": {},
   "outputs": [],
   "source": []
  },
  {
   "cell_type": "code",
   "execution_count": null,
   "metadata": {},
   "outputs": [],
   "source": []
  },
  {
   "cell_type": "code",
   "execution_count": null,
   "metadata": {},
   "outputs": [],
   "source": []
  }
 ],
 "metadata": {
  "kernelspec": {
   "display_name": "Python 3",
   "language": "python",
   "name": "python3"
  },
  "language_info": {
   "codemirror_mode": {
    "name": "ipython",
    "version": 3
   },
   "file_extension": ".py",
   "mimetype": "text/x-python",
   "name": "python",
   "nbconvert_exporter": "python",
   "pygments_lexer": "ipython3",
   "version": "3.7.3"
  }
 },
 "nbformat": 4,
 "nbformat_minor": 2
}
