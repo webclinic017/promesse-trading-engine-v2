{
 "cells": [
  {
   "cell_type": "code",
   "execution_count": 1,
   "metadata": {},
   "outputs": [],
   "source": [
    "import numpy as np\n",
    "import pandas as pd\n",
    "from datetime import datetime\n",
    "from pathlib import Path\n",
    "\n",
    "import talib"
   ]
  },
  {
   "cell_type": "code",
   "execution_count": 2,
   "metadata": {},
   "outputs": [],
   "source": [
    "class CSVDataHandler:\n",
    "    def __init__(self, csv_dir, symbol_list, timeframe):\n",
    "        self.csv_dir = csv_dir\n",
    "        self.symbol_list = symbol_list\n",
    "        self.timeframe = timeframe\n",
    "        \n",
    "        self.symbol_data = dict()\n",
    "        self.latest_symbol_data = dict()\n",
    "        \n",
    "        self.continue_backtest = True\n",
    "        \n",
    "        self._import_symbol_data()\n",
    "        \n",
    "    def _import_symbol_data(self):\n",
    "        csv_files_path = f'{Path().absolute()}/{self.csv_dir}'\n",
    "        columns = ['datetime', 'open', 'high', 'low', 'close', 'volume']\n",
    "        combined_symbol_index = None\n",
    "        \n",
    "        for symbol in symbol_list:\n",
    "            symbol_csv_path = f'{csv_files_path}/{symbol}_{self.timeframe}.csv'\n",
    "            self.symbol_data[symbol] = pd.read_csv(symbol_csv_path, header=None, index_col=0, names=columns)\n",
    "            \n",
    "            self.symbol_data[symbol].index = pd.to_datetime(self.symbol_data[symbol].index, unit='ms')\n",
    "            self.symbol_data[symbol] = self.symbol_data[symbol].drop_duplicates()\n",
    "            self.symbol_data[symbol] = self.symbol_data[symbol].sort_index()\n",
    "            \n",
    "            if combined_symbol_index is None:\n",
    "                combined_symbol_index = self.symbol_data[symbol].index\n",
    "            else:\n",
    "                combined_symbol_index = combined_symbol_index.union(self.symbol_data[symbol].index)\n",
    "            \n",
    "            self.latest_symbol_data[symbol] = list()\n",
    "            \n",
    "        for symbol in symbol_list:\n",
    "            self.symbol_data[symbol] = self.symbol_data[symbol].reindex(index=combined_symbol_index, method='pad', fill_value=0).itertuples()\n",
    "            \n",
    "    def _get_new_bar(self, symbol):\n",
    "        for bar in self.symbol_data[symbol]:\n",
    "            yield bar\n",
    "            \n",
    "    def update_bars(self):\n",
    "        for symbol in self.symbol_list:\n",
    "            try:\n",
    "                bar = next(self._get_new_bar(symbol))\n",
    "            except StopIteration:\n",
    "                self.continue_backtest = False\n",
    "            else:\n",
    "                if bar is not None:\n",
    "                    self.latest_symbol_data[symbol].append(bar)\n",
    "                    \n",
    "    def get_latest_bar(self, symbol):\n",
    "        try:\n",
    "            return self.latest_symbol_data[symbol][-1]\n",
    "        except KeyError:\n",
    "            print(\"That symbol is not available in the historical data set.\")\n",
    "            raise\n",
    "            \n",
    "    def get_latest_bars(self, symbol, N=1):\n",
    "        try:\n",
    "            return self.latest_symbol_data[symbol][-N:]\n",
    "        except KeyError:\n",
    "            print(\"That symbol is not available in the historical data set.\")\n",
    "            raise\n",
    "            \n",
    "    def get_latest_bar_datetime(self, symbol):\n",
    "        try:\n",
    "            return self.latest_symbol_data[symbol][-1].Index\n",
    "        except KeyError:\n",
    "            print(\"That symbol is not available in the historical data set.\")\n",
    "            raise\n",
    "            \n",
    "    def get_latest_bar_value(self, symbol, value_type):\n",
    "        try:\n",
    "            return getattr(self.latest_symbol_data[symbol][-1], value_type)\n",
    "        except KeyError:\n",
    "            print(\"That symbol is not available in the historical data set.\")\n",
    "            raise\n",
    "            \n",
    "    def get_latest_bars_values(self, symbol, value_type, N=1):\n",
    "        try:\n",
    "            bars = self.latest_symbol_data[symbol][-N:]\n",
    "        except KeyError:\n",
    "            print(\"That symbol is not available in the historical data set.\")\n",
    "            raise\n",
    "        else:\n",
    "            return np.array([getattr(bar, value_type) for bar in bars])"
   ]
  },
  {
   "cell_type": "code",
   "execution_count": 3,
   "metadata": {},
   "outputs": [],
   "source": [
    "symbol_list = ['BTC-USDT', 'ETH-BTC']\n",
    "data_handler = CSVDataHandler('exchange_data', symbol_list, timeframe='1h')"
   ]
  },
  {
   "cell_type": "code",
   "execution_count": 4,
   "metadata": {},
   "outputs": [
    {
     "name": "stdout",
     "output_type": "stream",
     "text": [
      "{'BTC-USDT': <map object at 0x118750e48>, 'ETH-BTC': <map object at 0x10c0f3470>}\n",
      "{'BTC-USDT': [], 'ETH-BTC': []}\n"
     ]
    }
   ],
   "source": [
    "print(data_handler.symbol_data)\n",
    "print(data_handler.latest_symbol_data)"
   ]
  },
  {
   "cell_type": "code",
   "execution_count": 6,
   "metadata": {},
   "outputs": [],
   "source": [
    "for i in range(608):\n",
    "    data_handler.update_bars()"
   ]
  },
  {
   "cell_type": "code",
   "execution_count": 114,
   "metadata": {},
   "outputs": [],
   "source": [
    "def MFI(hlcv, window=14):\n",
    "    hlcv_window = hlcv[-window:]\n",
    "    \n",
    "    high = hlcv_window[:, 0]\n",
    "    low = hlcv_window[:, 1]\n",
    "    close = hlcv_window[:, 2]\n",
    "    volume = hlcv_window[:, 3]\n",
    "    \n",
    "    typical_price = (high + low + close) / 3\n",
    "    raw_money_flow = typical_price * volume\n",
    "    typical_price_diff = np.diff(typical_price, prepend=np.nan)\n",
    "    \n",
    "    gains = raw_money_flow[typical_price_diff > 0]\n",
    "    losses = raw_money_flow[typical_price_diff < 0]\n",
    "    \n",
    "    try:\n",
    "        money_flow_ratio = gains.sum() / losses.sum()\n",
    "    except ZeroDivisionError:\n",
    "        money_flow_ratio = 1\n",
    "\n",
    "    money_flow_index = 100 - (100 / (1 + money_flow_ratio))\n",
    "\n",
    "    return money_flow_index"
   ]
  },
  {
   "cell_type": "code",
   "execution_count": 159,
   "metadata": {},
   "outputs": [
    {
     "data": {
      "text/plain": [
       "array([[0.06299400000000001, 0.0626, 0.0629],\n",
       "       [0.06304900000000001, 0.062593, 0.062885],\n",
       "       [0.06303099999999999, 0.062238999999999996, 0.06232000000000001],\n",
       "       [0.062373000000000005, 0.06155, 0.061975],\n",
       "       [0.062282000000000004, 0.0618, 0.061996],\n",
       "       [0.062282000000000004, 0.061613, 0.062166],\n",
       "       [0.06217999999999999, 0.0615, 0.061567],\n",
       "       [0.061764, 0.061, 0.061015999999999994],\n",
       "       [0.061685000000000004, 0.061, 0.061599],\n",
       "       [0.0622, 0.06146, 0.061497],\n",
       "       [0.061958000000000006, 0.061336, 0.061949000000000004],\n",
       "       [0.062046000000000004, 0.061642999999999996, 0.061712],\n",
       "       [0.06209, 0.061538999999999996, 0.06176],\n",
       "       [0.0618, 0.061360000000000005, 0.061475],\n",
       "       [0.06185, 0.061364, 0.061701],\n",
       "       [0.0621, 0.061554, 0.061923],\n",
       "       [0.0621, 0.061834, 0.061949000000000004],\n",
       "       [0.062189, 0.06186900000000001, 0.061914],\n",
       "       [0.062082000000000005, 0.061742, 0.061815999999999996],\n",
       "       [0.061995, 0.061161, 0.061259],\n",
       "       [0.061526, 0.06093, 0.06129],\n",
       "       [0.061766999999999996, 0.060921, 0.061475],\n",
       "       [0.0617, 0.061227, 0.061551999999999996],\n",
       "       [0.063, 0.061475999999999996, 0.061657000000000003],\n",
       "       [0.061776, 0.061001, 0.06116900000000001],\n",
       "       [0.0619, 0.061065999999999995, 0.061458000000000006],\n",
       "       [0.061739999999999996, 0.061216999999999994, 0.061667999999999994],\n",
       "       [0.061719, 0.061159000000000005, 0.061367],\n",
       "       [0.06165, 0.06125, 0.061639],\n",
       "       [0.061675, 0.061132000000000006, 0.061429],\n",
       "       [0.061646000000000006, 0.06125, 0.061554],\n",
       "       [0.06175, 0.061242, 0.061503999999999996],\n",
       "       [0.0616, 0.061020000000000005, 0.061082000000000004],\n",
       "       [0.061197, 0.06072999999999999, 0.060959000000000006],\n",
       "       [0.0611, 0.060064, 0.0609],\n",
       "       [0.060969, 0.060513, 0.060736],\n",
       "       [0.061140999999999994, 0.060629999999999996, 0.061095000000000003],\n",
       "       [0.06122999999999999, 0.0608, 0.060905999999999995],\n",
       "       [0.061296, 0.060805, 0.061101],\n",
       "       [0.0613, 0.060978, 0.061209000000000006],\n",
       "       [0.061516999999999995, 0.060881, 0.061025],\n",
       "       [0.061399, 0.060536, 0.061009],\n",
       "       [0.061204999999999996, 0.060570000000000006, 0.060639],\n",
       "       [0.060845, 0.060511, 0.06066900000000001],\n",
       "       [0.061014, 0.060503999999999995, 0.060797000000000004],\n",
       "       [0.06087000000000001, 0.060488, 0.060588],\n",
       "       [0.060967999999999994, 0.060507000000000005, 0.060624000000000004],\n",
       "       [0.060899, 0.0605, 0.060659000000000005],\n",
       "       [0.060784000000000005, 0.06056, 0.060679],\n",
       "       [0.060813, 0.060624000000000004, 0.060687]], dtype=object)"
      ]
     },
     "execution_count": 159,
     "metadata": {},
     "output_type": "execute_result"
    }
   ],
   "source": [
    "bars = np.array(data_handler.get_latest_bars('ETH-BTC', N=50))\n",
    "hlc = bars[:, 2:-1]\n",
    "hlc"
   ]
  },
  {
   "cell_type": "code",
   "execution_count": 145,
   "metadata": {
    "scrolled": true
   },
   "outputs": [
    {
     "name": "stdout",
     "output_type": "stream",
     "text": [
      "74.7 µs ± 7.38 µs per loop (mean ± std. dev. of 7 runs, 10000 loops each)\n"
     ]
    }
   ],
   "source": [
    "%%timeit\n",
    "latest_close = data_handler.get_latest_bars_values('ETH-BTC', 'close', N=250)\n",
    "talib.RSI(latest_close)[-1]"
   ]
  },
  {
   "cell_type": "code",
   "execution_count": 146,
   "metadata": {},
   "outputs": [],
   "source": [
    "start = bars[-1, 0].hour + 1 + 24\n",
    "end = bars[-1, 0].hour + 1\n",
    "prev_day_bars = bars[-start:-end]\n",
    "high = prev_day_bars[:, 2].max()\n",
    "low = prev_day_bars[:, 3].min()\n",
    "close = prev_day_bars[:, 4][-1]"
   ]
  },
  {
   "cell_type": "code",
   "execution_count": 188,
   "metadata": {},
   "outputs": [
    {
     "data": {
      "text/plain": [
       "array([[Timestamp('2018-03-22 07:00:00'), 0.06299400000000001, 0.0626,\n",
       "        0.0629],\n",
       "       [Timestamp('2018-03-22 08:00:00'), 0.06304900000000001, 0.062593,\n",
       "        0.062885],\n",
       "       [Timestamp('2018-03-22 09:00:00'), 0.06303099999999999,\n",
       "        0.062238999999999996, 0.06232000000000001],\n",
       "       [Timestamp('2018-03-22 10:00:00'), 0.062373000000000005, 0.06155,\n",
       "        0.061975],\n",
       "       [Timestamp('2018-03-22 11:00:00'), 0.062282000000000004, 0.0618,\n",
       "        0.061996],\n",
       "       [Timestamp('2018-03-22 12:00:00'), 0.062282000000000004, 0.061613,\n",
       "        0.062166],\n",
       "       [Timestamp('2018-03-22 13:00:00'), 0.06217999999999999, 0.0615,\n",
       "        0.061567],\n",
       "       [Timestamp('2018-03-22 14:00:00'), 0.061764, 0.061,\n",
       "        0.061015999999999994],\n",
       "       [Timestamp('2018-03-22 15:00:00'), 0.061685000000000004, 0.061,\n",
       "        0.061599],\n",
       "       [Timestamp('2018-03-22 16:00:00'), 0.0622, 0.06146, 0.061497],\n",
       "       [Timestamp('2018-03-22 17:00:00'), 0.061958000000000006, 0.061336,\n",
       "        0.061949000000000004],\n",
       "       [Timestamp('2018-03-22 18:00:00'), 0.062046000000000004,\n",
       "        0.061642999999999996, 0.061712],\n",
       "       [Timestamp('2018-03-22 19:00:00'), 0.06209, 0.061538999999999996,\n",
       "        0.06176],\n",
       "       [Timestamp('2018-03-22 20:00:00'), 0.0618, 0.061360000000000005,\n",
       "        0.061475],\n",
       "       [Timestamp('2018-03-22 21:00:00'), 0.06185, 0.061364, 0.061701],\n",
       "       [Timestamp('2018-03-22 22:00:00'), 0.0621, 0.061554, 0.061923],\n",
       "       [Timestamp('2018-03-22 23:00:00'), 0.0621, 0.061834,\n",
       "        0.061949000000000004],\n",
       "       [Timestamp('2018-03-23 00:00:00'), 0.062189, 0.06186900000000001,\n",
       "        0.061914],\n",
       "       [Timestamp('2018-03-23 01:00:00'), 0.062082000000000005, 0.061742,\n",
       "        0.061815999999999996],\n",
       "       [Timestamp('2018-03-23 02:00:00'), 0.061995, 0.061161, 0.061259],\n",
       "       [Timestamp('2018-03-23 03:00:00'), 0.061526, 0.06093, 0.06129],\n",
       "       [Timestamp('2018-03-23 04:00:00'), 0.061766999999999996, 0.060921,\n",
       "        0.061475],\n",
       "       [Timestamp('2018-03-23 05:00:00'), 0.0617, 0.061227,\n",
       "        0.061551999999999996],\n",
       "       [Timestamp('2018-03-23 06:00:00'), 0.063, 0.061475999999999996,\n",
       "        0.061657000000000003],\n",
       "       [Timestamp('2018-03-23 07:00:00'), 0.061776, 0.061001,\n",
       "        0.06116900000000001],\n",
       "       [Timestamp('2018-03-23 08:00:00'), 0.0619, 0.061065999999999995,\n",
       "        0.061458000000000006],\n",
       "       [Timestamp('2018-03-23 09:00:00'), 0.061739999999999996,\n",
       "        0.061216999999999994, 0.061667999999999994],\n",
       "       [Timestamp('2018-03-23 10:00:00'), 0.061719, 0.061159000000000005,\n",
       "        0.061367],\n",
       "       [Timestamp('2018-03-23 11:00:00'), 0.06165, 0.06125, 0.061639],\n",
       "       [Timestamp('2018-03-23 12:00:00'), 0.061675, 0.061132000000000006,\n",
       "        0.061429],\n",
       "       [Timestamp('2018-03-23 13:00:00'), 0.061646000000000006, 0.06125,\n",
       "        0.061554],\n",
       "       [Timestamp('2018-03-23 14:00:00'), 0.06175, 0.061242,\n",
       "        0.061503999999999996],\n",
       "       [Timestamp('2018-03-23 15:00:00'), 0.0616, 0.061020000000000005,\n",
       "        0.061082000000000004],\n",
       "       [Timestamp('2018-03-23 16:00:00'), 0.061197, 0.06072999999999999,\n",
       "        0.060959000000000006],\n",
       "       [Timestamp('2018-03-23 17:00:00'), 0.0611, 0.060064, 0.0609],\n",
       "       [Timestamp('2018-03-23 18:00:00'), 0.060969, 0.060513, 0.060736],\n",
       "       [Timestamp('2018-03-23 19:00:00'), 0.061140999999999994,\n",
       "        0.060629999999999996, 0.061095000000000003],\n",
       "       [Timestamp('2018-03-23 20:00:00'), 0.06122999999999999, 0.0608,\n",
       "        0.060905999999999995],\n",
       "       [Timestamp('2018-03-23 21:00:00'), 0.061296, 0.060805, 0.061101],\n",
       "       [Timestamp('2018-03-23 22:00:00'), 0.0613, 0.060978,\n",
       "        0.061209000000000006],\n",
       "       [Timestamp('2018-03-23 23:00:00'), 0.061516999999999995, 0.060881,\n",
       "        0.061025],\n",
       "       [Timestamp('2018-03-24 00:00:00'), 0.061399, 0.060536, 0.061009],\n",
       "       [Timestamp('2018-03-24 01:00:00'), 0.061204999999999996,\n",
       "        0.060570000000000006, 0.060639],\n",
       "       [Timestamp('2018-03-24 02:00:00'), 0.060845, 0.060511,\n",
       "        0.06066900000000001],\n",
       "       [Timestamp('2018-03-24 03:00:00'), 0.061014, 0.060503999999999995,\n",
       "        0.060797000000000004],\n",
       "       [Timestamp('2018-03-24 04:00:00'), 0.06087000000000001, 0.060488,\n",
       "        0.060588],\n",
       "       [Timestamp('2018-03-24 05:00:00'), 0.060967999999999994,\n",
       "        0.060507000000000005, 0.060624000000000004],\n",
       "       [Timestamp('2018-03-24 06:00:00'), 0.060899, 0.0605,\n",
       "        0.060659000000000005],\n",
       "       [Timestamp('2018-03-24 07:00:00'), 0.060784000000000005, 0.06056,\n",
       "        0.060679],\n",
       "       [Timestamp('2018-03-24 08:00:00'), 0.060813, 0.060624000000000004,\n",
       "        0.060687]], dtype=object)"
      ]
     },
     "execution_count": 188,
     "metadata": {},
     "output_type": "execute_result"
    }
   ],
   "source": [
    "bars[:, [0, 2, 3, 4]]"
   ]
  },
  {
   "cell_type": "code",
   "execution_count": 177,
   "metadata": {},
   "outputs": [],
   "source": [
    "closes = data_handler.get_latest_bars_values('ETH-BTC', 'close', N=100)"
   ]
  },
  {
   "cell_type": "code",
   "execution_count": 180,
   "metadata": {},
   "outputs": [
    {
     "name": "stdout",
     "output_type": "stream",
     "text": [
      "158 ns ± 1.37 ns per loop (mean ± std. dev. of 7 runs, 10000000 loops each)\n"
     ]
    }
   ],
   "source": [
    "%timeit closes[-1]"
   ]
  },
  {
   "cell_type": "code",
   "execution_count": 182,
   "metadata": {},
   "outputs": [
    {
     "name": "stdout",
     "output_type": "stream",
     "text": [
      "381 ns ± 38 ns per loop (mean ± std. dev. of 7 runs, 1000000 loops each)\n"
     ]
    }
   ],
   "source": [
    "%timeit data_handler.get_latest_bar_value('ETH-BTC', 'close')"
   ]
  },
  {
   "cell_type": "code",
   "execution_count": 7,
   "metadata": {},
   "outputs": [
    {
     "data": {
      "text/plain": [
       "0.075363"
      ]
     },
     "execution_count": 7,
     "metadata": {},
     "output_type": "execute_result"
    }
   ],
   "source": [
    "data_handler.get_latest_bar_value('ETH-BTC', 'close')"
   ]
  },
  {
   "cell_type": "code",
   "execution_count": 8,
   "metadata": {},
   "outputs": [
    {
     "ename": "TypeError",
     "evalue": "get_latest_bar_value() missing 1 required positional argument: 'value_type'",
     "output_type": "error",
     "traceback": [
      "\u001b[0;31m---------------------------------------------------------------------------\u001b[0m",
      "\u001b[0;31mTypeError\u001b[0m                                 Traceback (most recent call last)",
      "\u001b[0;32m<ipython-input-8-2151245d0a46>\u001b[0m in \u001b[0;36m<module>\u001b[0;34m\u001b[0m\n\u001b[0;32m----> 1\u001b[0;31m \u001b[0mdata_handler\u001b[0m\u001b[0;34m.\u001b[0m\u001b[0mget_latest_bar_value\u001b[0m\u001b[0;34m(\u001b[0m\u001b[0;34m'ETH-BTC'\u001b[0m\u001b[0;34m)\u001b[0m\u001b[0;34m.\u001b[0m\u001b[0mclose\u001b[0m\u001b[0;34m\u001b[0m\u001b[0;34m\u001b[0m\u001b[0m\n\u001b[0m",
      "\u001b[0;31mTypeError\u001b[0m: get_latest_bar_value() missing 1 required positional argument: 'value_type'"
     ]
    }
   ],
   "source": [
    "data_handler.get_latest_bar_value('ETH-BTC').close"
   ]
  },
  {
   "cell_type": "code",
   "execution_count": null,
   "metadata": {},
   "outputs": [],
   "source": []
  }
 ],
 "metadata": {
  "kernelspec": {
   "display_name": "Python 3",
   "language": "python",
   "name": "python3"
  },
  "language_info": {
   "codemirror_mode": {
    "name": "ipython",
    "version": 3
   },
   "file_extension": ".py",
   "mimetype": "text/x-python",
   "name": "python",
   "nbconvert_exporter": "python",
   "pygments_lexer": "ipython3",
   "version": "3.7.3"
  }
 },
 "nbformat": 4,
 "nbformat_minor": 2
}
