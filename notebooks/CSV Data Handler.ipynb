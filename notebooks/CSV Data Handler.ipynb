{
 "cells": [
  {
   "cell_type": "code",
   "execution_count": 48,
   "metadata": {},
   "outputs": [],
   "source": [
    "import numpy as np\n",
    "import pandas as pd\n",
    "from datetime import datetime\n",
    "from pathlib import Path\n",
    "import peakutils\n",
    "from peakutils.plot import plot as pplot\n",
    "from matplotlib import pyplot\n",
    "import plotly.graph_objects as go\n",
    "from plotly.subplots import make_subplots\n",
    "from pathlib import Path\n",
    "\n",
    "import talib"
   ]
  },
  {
   "cell_type": "code",
   "execution_count": 49,
   "metadata": {},
   "outputs": [],
   "source": [
    "def parse_trades(filepath):\n",
    "    trades = pd.read_csv(filepath, header=0,\n",
    "                         parse_dates=True, index_col=0)\n",
    "    trades['open_date'] = pd.to_datetime(trades['open_date'])\n",
    "    trades['close_date'] = pd.to_datetime(trades['close_date'])\n",
    "\n",
    "    return trades\n",
    "\n",
    "class CSVDataHandler:\n",
    "    def __init__(self, csv_dir, symbol_list, timeframe):\n",
    "        self.csv_dir = csv_dir\n",
    "        self.symbol_list = symbol_list\n",
    "        self.timeframe = timeframe\n",
    "        \n",
    "        self.symbol_data = dict()\n",
    "        self.latest_symbol_data = dict()\n",
    "        \n",
    "        self.continue_backtest = True\n",
    "        \n",
    "        self._import_symbol_data()\n",
    "        \n",
    "    def _import_symbol_data(self):\n",
    "        csv_files_path = f'{Path().absolute()}/{self.csv_dir}'\n",
    "        columns = ['datetime', 'open', 'high', 'low', 'close', 'volume']\n",
    "        combined_symbol_index = None\n",
    "        \n",
    "        for symbol in symbol_list:\n",
    "            symbol_csv_path = f'{csv_files_path}/{symbol}_{self.timeframe}.csv'\n",
    "            self.symbol_data[symbol] = pd.read_csv(symbol_csv_path, header=None, index_col=0, names=columns)\n",
    "            \n",
    "            self.symbol_data[symbol].index = pd.to_datetime(self.symbol_data[symbol].index, unit='ms')\n",
    "            self.symbol_data[symbol] = self.symbol_data[symbol].drop_duplicates()\n",
    "            self.symbol_data[symbol] = self.symbol_data[symbol].sort_index()\n",
    "            \n",
    "            if combined_symbol_index is None:\n",
    "                combined_symbol_index = self.symbol_data[symbol].index\n",
    "            else:\n",
    "                combined_symbol_index = combined_symbol_index.union(self.symbol_data[symbol].index)\n",
    "            \n",
    "            self.latest_symbol_data[symbol] = list()\n",
    "            \n",
    "        for symbol in symbol_list:\n",
    "            self.symbol_data[symbol] = self.symbol_data[symbol].reindex(index=combined_symbol_index, method='pad', fill_value=0).itertuples(name='OHLCV')\n",
    "            \n",
    "    def _get_new_bar(self, symbol):\n",
    "        for bar in self.symbol_data[symbol]:\n",
    "            yield bar\n",
    "            \n",
    "    def update_bars(self):\n",
    "        for symbol in self.symbol_list:\n",
    "            try:\n",
    "                bar = next(self._get_new_bar(symbol))\n",
    "            except StopIteration:\n",
    "                self.continue_backtest = False\n",
    "            else:\n",
    "                if bar is not None:\n",
    "                    self.latest_symbol_data[symbol].append(bar)\n",
    "                    \n",
    "    def get_latest_bar(self, symbol):\n",
    "        try:\n",
    "            return self.latest_symbol_data[symbol][-1]\n",
    "        except KeyError:\n",
    "            print(\"That symbol is not available in the historical data set.\")\n",
    "            raise\n",
    "            \n",
    "    def get_latest_bars(self, symbol, N=1):\n",
    "        try:\n",
    "            return np.array(self.latest_symbol_data[symbol][-N:])\n",
    "        except KeyError:\n",
    "            print(\"That symbol is not available in the historical data set.\")\n",
    "            raise\n",
    "            \n",
    "    def get_latest_bar_datetime(self, symbol):\n",
    "        try:\n",
    "            return self.latest_symbol_data[symbol][-1].Index\n",
    "        except KeyError:\n",
    "            print(\"That symbol is not available in the historical data set.\")\n",
    "            raise\n",
    "            \n",
    "    def get_latest_bar_value(self, symbol, value_type):\n",
    "        try:\n",
    "            return getattr(self.latest_symbol_data[symbol][-1], value_type)\n",
    "        except KeyError:\n",
    "            print(\"That symbol is not available in the historical data set.\")\n",
    "            raise\n",
    "            \n",
    "    def get_latest_bars_values(self, symbol, value_type, N=1):\n",
    "        try:\n",
    "            bars = self.latest_symbol_data[symbol][-N:]\n",
    "        except KeyError:\n",
    "            print(\"That symbol is not available in the historical data set.\")\n",
    "            raise\n",
    "        else:\n",
    "            return np.array([getattr(bar, value_type) for bar in bars])"
   ]
  },
  {
   "cell_type": "code",
   "execution_count": 50,
   "metadata": {},
   "outputs": [],
   "source": [
    "symbol_list = ['BTC-USDT']\n",
    "data_handler = CSVDataHandler('../exchange_data', symbol_list, timeframe='1h')"
   ]
  },
  {
   "cell_type": "code",
   "execution_count": 52,
   "metadata": {},
   "outputs": [
    {
     "data": {
      "text/plain": [
       "array([[Timestamp('2017-09-07 04:00:00'), 4489.48, 4549.52, 4482.0,\n",
       "        4541.17, 18.430628],\n",
       "       [Timestamp('2017-09-07 05:00:00'), 4542.35, 4561.9, 4511.97,\n",
       "        4519.48, 20.847166],\n",
       "       [Timestamp('2017-09-07 06:00:00'), 4519.47, 4548.13, 4498.39,\n",
       "        4498.4, 11.892871000000001]], dtype=object)"
      ]
     },
     "execution_count": 52,
     "metadata": {},
     "output_type": "execute_result"
    }
   ],
   "source": [
    "for _ in range(250):\n",
    "    data_handler.update_bars()\n",
    "\n",
    "data = data_handler.latest_symbol_data['BTC-USDT']\n",
    "data_handler.get_latest_bars('BTC-USDT', N=3)"
   ]
  },
  {
   "cell_type": "code",
   "execution_count": 5,
   "metadata": {},
   "outputs": [],
   "source": [
    "rsi = talib.RSI(close, timeperiod=20)\n",
    "trades_path = f'../backtest_results/trades.csv'\n",
    "trades = parse_trades(trades_path)"
   ]
  },
  {
   "cell_type": "code",
   "execution_count": 12,
   "metadata": {},
   "outputs": [],
   "source": [
    "fig = make_subplots(\n",
    "    rows=2, cols=1,\n",
    "    shared_xaxes=True,\n",
    "    vertical_spacing=0.03,\n",
    "    specs=\n",
    "           [[{\"type\": \"scatter\"}],\n",
    "           [{\"type\": \"scatter\"}]]\n",
    ")\n",
    "\n",
    "    data['close'].resample('D').agg({\n",
    "        'close': lambda x: x[-1]\n",
    "    })"
   ]
  },
  {
   "cell_type": "code",
   "execution_count": 1,
   "metadata": {},
   "outputs": [
    {
     "ename": "NameError",
     "evalue": "name 'fig' is not defined",
     "output_type": "error",
     "traceback": [
      "\u001b[0;31m---------------------------------------------------------------------------\u001b[0m",
      "\u001b[0;31mNameError\u001b[0m                                 Traceback (most recent call last)",
      "\u001b[0;32m<ipython-input-1-11cb449b52d6>\u001b[0m in \u001b[0;36m<module>\u001b[0;34m\u001b[0m\n\u001b[0;32m----> 1\u001b[0;31m fig.add_trace(\n\u001b[0m\u001b[1;32m      2\u001b[0m     go.Scatter(\n\u001b[1;32m      3\u001b[0m         \u001b[0mx\u001b[0m\u001b[0;34m=\u001b[0m\u001b[0mdatetimes\u001b[0m\u001b[0;34m,\u001b[0m\u001b[0;34m\u001b[0m\u001b[0;34m\u001b[0m\u001b[0m\n\u001b[1;32m      4\u001b[0m         \u001b[0my\u001b[0m\u001b[0;34m=\u001b[0m\u001b[0mclose\u001b[0m\u001b[0;34m,\u001b[0m\u001b[0;34m\u001b[0m\u001b[0;34m\u001b[0m\u001b[0m\n\u001b[1;32m      5\u001b[0m         \u001b[0mmode\u001b[0m\u001b[0;34m=\u001b[0m\u001b[0;34m\"lines\"\u001b[0m\u001b[0;34m,\u001b[0m\u001b[0;34m\u001b[0m\u001b[0;34m\u001b[0m\u001b[0m\n",
      "\u001b[0;31mNameError\u001b[0m: name 'fig' is not defined"
     ]
    }
   ],
   "source": [
    "fig.add_trace(\n",
    "    go.Scatter(\n",
    "        x=datetimes,\n",
    "        y=close,\n",
    "        mode=\"lines\",\n",
    "        name=\"Closes\",\n",
    "    ),\n",
    "    row=1, col=1\n",
    ")\n",
    "\n",
    "fig.add_trace(\n",
    "    go.Scatter(\n",
    "        x=trades['open_date'],\n",
    "        y=trades['open_market_price'],\n",
    "        mode=\"markers\",\n",
    "        marker=dict(symbol=\"triangle-up\", size=10),\n",
    "        marker_color='rgba(8, 166, 53, 1)',\n",
    "        name=\"Open position\"\n",
    "    ),\n",
    "    row=1, col=1\n",
    ")\n",
    "\n",
    "fig.add_trace(\n",
    "    go.Scatter(\n",
    "        x=trades['close_date'],\n",
    "        y=trades['close_market_price'],\n",
    "        mode=\"markers\",\n",
    "        marker=dict(symbol=\"triangle-down\", size=10),\n",
    "        marker_color='rgba(219, 22, 22, 1)',\n",
    "        name=\"Close position\"\n",
    "    ),\n",
    "    row=1, col=1\n",
    ")\n",
    "\n",
    "\n",
    "fig.add_trace(\n",
    "    go.Scatter(\n",
    "        x=datetimes,\n",
    "        y=rsi,\n",
    "        mode=\"lines\",\n",
    "        name=\"RSI\"\n",
    "    ),\n",
    "    row=2, col=1\n",
    ")\n",
    "\n",
    "\n",
    "fig.update_layout(\n",
    "    height=800,\n",
    "    showlegend=False,\n",
    "    title_text=\"BTC/USDT\",\n",
    ")\n",
    "\n",
    "fig.show()"
   ]
  },
  {
   "cell_type": "code",
   "execution_count": null,
   "metadata": {},
   "outputs": [],
   "source": []
  },
  {
   "cell_type": "code",
   "execution_count": null,
   "metadata": {},
   "outputs": [],
   "source": []
  },
  {
   "cell_type": "code",
   "execution_count": null,
   "metadata": {},
   "outputs": [],
   "source": []
  },
  {
   "cell_type": "code",
   "execution_count": null,
   "metadata": {},
   "outputs": [],
   "source": []
  },
  {
   "cell_type": "code",
   "execution_count": null,
   "metadata": {},
   "outputs": [],
   "source": []
  }
 ],
 "metadata": {
  "kernelspec": {
   "display_name": "Python 3",
   "language": "python",
   "name": "python3"
  },
  "language_info": {
   "codemirror_mode": {
    "name": "ipython",
    "version": 3
   },
   "file_extension": ".py",
   "mimetype": "text/x-python",
   "name": "python",
   "nbconvert_exporter": "python",
   "pygments_lexer": "ipython3",
   "version": "3.7.3"
  }
 },
 "nbformat": 4,
 "nbformat_minor": 2
}
