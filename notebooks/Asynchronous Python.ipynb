{
 "cells": [
  {
   "cell_type": "code",
   "execution_count": 95,
   "metadata": {},
   "outputs": [],
   "source": [
    "from collections import deque"
   ]
  },
  {
   "cell_type": "code",
   "execution_count": 100,
   "metadata": {},
   "outputs": [],
   "source": [
    "def tic_tac():\n",
    "    print('Bim')\n",
    "    yield\n",
    "    print('Bam')\n",
    "    yield from spam()\n",
    "    return 'BOOOOM'\n",
    "\n",
    "def spam():\n",
    "    print('SPAM')\n",
    "    yield\n",
    "    print('OK SPAM')\n",
    "    yield"
   ]
  },
  {
   "cell_type": "code",
   "execution_count": 101,
   "metadata": {},
   "outputs": [],
   "source": [
    "co = tic_tac()"
   ]
  },
  {
   "cell_type": "code",
   "execution_count": 105,
   "metadata": {},
   "outputs": [
    {
     "ename": "StopIteration",
     "evalue": "BOOOOM",
     "output_type": "error",
     "traceback": [
      "\u001b[0;31m---------------------------------------------------------------------------\u001b[0m",
      "\u001b[0;31mStopIteration\u001b[0m                             Traceback (most recent call last)",
      "\u001b[0;32m<ipython-input-105-4287c4647075>\u001b[0m in \u001b[0;36m<module>\u001b[0;34m\u001b[0m\n\u001b[0;32m----> 1\u001b[0;31m \u001b[0mnext\u001b[0m\u001b[0;34m(\u001b[0m\u001b[0mco\u001b[0m\u001b[0;34m)\u001b[0m\u001b[0;34m\u001b[0m\u001b[0;34m\u001b[0m\u001b[0m\n\u001b[0m",
      "\u001b[0;31mStopIteration\u001b[0m: BOOOOM"
     ]
    }
   ],
   "source": [
    "next(co)"
   ]
  },
  {
   "cell_type": "code",
   "execution_count": 191,
   "metadata": {},
   "outputs": [],
   "source": [
    "STATUS_NEW = 'NEW'\n",
    "STATUS_RUNNING = 'RUNNING'\n",
    "STATUS_FINISHED = 'FINISHED'\n",
    "STATUS_ERROR = 'ERROR'\n",
    "STATUS_CANCELLED = 'CANCELLED'\n",
    "\n",
    "class Task:\n",
    "    def __init__(self, coro):\n",
    "        self.coro = coro\n",
    "        self.name = coro.__name__\n",
    "        self.status = STATUS_NEW\n",
    "        self.return_value = None\n",
    "        self.error_value = None\n",
    "        \n",
    "    def run(self):\n",
    "        try:\n",
    "            self.status = STATUS_RUNNING\n",
    "            next(self.coro)\n",
    "        except StopIteration as err:\n",
    "            self.status = STATUS_FINISHED\n",
    "            self.return_value = err.value\n",
    "        except Exception as err:\n",
    "            self.status = STATUS_ERROR\n",
    "            self.error_value = err\n",
    "            \n",
    "    def cancel(self):\n",
    "        if self.is_done():\n",
    "            return\n",
    "        self.status = STATUS_CANCELLED\n",
    "            \n",
    "    def is_done(self):\n",
    "        return self.status in {STATUS_FINISHED, STATUS_ERROR}\n",
    "    \n",
    "    def is_cancelled(self):\n",
    "        return self.status == STATUS_CANCELLED\n",
    "    \n",
    "    def __repr__(self):\n",
    "        result = ''\n",
    "        if self.is_done():\n",
    "            result = '({!r})'.format(self.return_value or self.error_value)\n",
    "        \n",
    "        return '<Task \"{}\" [{}] {}>'.format(self.name, self.status, result)"
   ]
  },
  {
   "cell_type": "code",
   "execution_count": 153,
   "metadata": {},
   "outputs": [],
   "source": [
    "task = Task(tic_tac())"
   ]
  },
  {
   "cell_type": "code",
   "execution_count": 154,
   "metadata": {},
   "outputs": [
    {
     "name": "stdout",
     "output_type": "stream",
     "text": [
      "Bim\n",
      "<Task \"tic_tac\" [RUNNING] >\n",
      "Bam\n",
      "SPAM\n",
      "<Task \"tic_tac\" [RUNNING] >\n",
      "OK SPAM\n",
      "<Task \"tic_tac\" [RUNNING] >\n",
      "<Task \"tic_tac\" [FINISHED] ('BOOOOM')>\n"
     ]
    }
   ],
   "source": [
    "while not task.is_done():\n",
    "    task.run()\n",
    "    print(task)"
   ]
  },
  {
   "cell_type": "code",
   "execution_count": 155,
   "metadata": {},
   "outputs": [
    {
     "data": {
      "text/plain": [
       "deque([<Task \"tic_tac\" [NEW] >, <Task \"tic_tac\" [NEW] >])"
      ]
     },
     "execution_count": 155,
     "metadata": {},
     "output_type": "execute_result"
    }
   ],
   "source": [
    "running_tasks = deque()\n",
    "running_tasks.append(Task(tic_tac()))\n",
    "running_tasks.append(Task(tic_tac()))\n",
    "running_tasks"
   ]
  },
  {
   "cell_type": "code",
   "execution_count": 156,
   "metadata": {},
   "outputs": [
    {
     "name": "stdout",
     "output_type": "stream",
     "text": [
      "Bim\n",
      "Bim\n",
      "Bam\n",
      "SPAM\n",
      "Bam\n",
      "SPAM\n",
      "OK SPAM\n",
      "OK SPAM\n",
      "<Task \"tic_tac\" [FINISHED] ('BOOOOM')>\n",
      "<Task \"tic_tac\" [FINISHED] ('BOOOOM')>\n"
     ]
    }
   ],
   "source": [
    "while running_tasks:\n",
    "    task = running_tasks.popleft()\n",
    "    task.run()\n",
    "    if not task.is_done():\n",
    "        running_tasks.append(task)\n",
    "    else:\n",
    "        print(task)"
   ]
  },
  {
   "cell_type": "code",
   "execution_count": 158,
   "metadata": {},
   "outputs": [],
   "source": [
    "class Loop:\n",
    "    def __init__(self):\n",
    "        self._running = deque()\n",
    "        \n",
    "    def schedule(self, task):\n",
    "        if not isinstance(task, Task):\n",
    "            task = Task(task)\n",
    "        self._running.append(task)\n",
    "        return task\n",
    "    \n",
    "    def run_until_empty(self):\n",
    "        while self._running:\n",
    "            self._loop()\n",
    "            \n",
    "    def run_until_complete(self, task):\n",
    "        task = self.schedule(task)\n",
    "        while not task.is_done():\n",
    "            self._loop()\n",
    "            \n",
    "    def _loop(self):\n",
    "        task = self._running.popleft()\n",
    "        \n",
    "        if task.is_cancelled():\n",
    "            print(task)\n",
    "            return\n",
    "        \n",
    "        task.run()\n",
    "        if task.is_done():\n",
    "            print(task)\n",
    "            return\n",
    "        \n",
    "        self.schedule(task)"
   ]
  },
  {
   "cell_type": "code",
   "execution_count": 159,
   "metadata": {},
   "outputs": [
    {
     "data": {
      "text/plain": [
       "<Task \"tic_tac\" [NEW] >"
      ]
     },
     "execution_count": 159,
     "metadata": {},
     "output_type": "execute_result"
    }
   ],
   "source": [
    "event_loop = Loop()\n",
    "task1 = Task(tic_tac())\n",
    "task2 = Task(tic_tac())\n",
    "\n",
    "event_loop.schedule(task1)\n",
    "event_loop.schedule(task2)"
   ]
  },
  {
   "cell_type": "code",
   "execution_count": 160,
   "metadata": {},
   "outputs": [
    {
     "name": "stdout",
     "output_type": "stream",
     "text": [
      "Bim\n",
      "Bim\n",
      "Bam\n",
      "SPAM\n",
      "Bam\n",
      "SPAM\n",
      "OK SPAM\n",
      "OK SPAM\n",
      "<Task \"tic_tac\" [FINISHED] ('BOOOOM')>\n",
      "<Task \"tic_tac\" [FINISHED] ('BOOOOM')>\n"
     ]
    }
   ],
   "source": [
    "event_loop.run_until_empty()"
   ]
  },
  {
   "cell_type": "code",
   "execution_count": 161,
   "metadata": {},
   "outputs": [
    {
     "ename": "TypeError",
     "evalue": "run_until_complete() takes 2 positional arguments but 3 were given",
     "output_type": "error",
     "traceback": [
      "\u001b[0;31m---------------------------------------------------------------------------\u001b[0m",
      "\u001b[0;31mTypeError\u001b[0m                                 Traceback (most recent call last)",
      "\u001b[0;32m<ipython-input-161-87fc6ec0905f>\u001b[0m in \u001b[0;36m<module>\u001b[0;34m\u001b[0m\n\u001b[1;32m      1\u001b[0m \u001b[0mevent_loop\u001b[0m \u001b[0;34m=\u001b[0m \u001b[0mLoop\u001b[0m\u001b[0;34m(\u001b[0m\u001b[0;34m)\u001b[0m\u001b[0;34m\u001b[0m\u001b[0;34m\u001b[0m\u001b[0m\n\u001b[0;32m----> 2\u001b[0;31m \u001b[0mevent_loop\u001b[0m\u001b[0;34m.\u001b[0m\u001b[0mrun_until_complete\u001b[0m\u001b[0;34m(\u001b[0m\u001b[0mTask\u001b[0m\u001b[0;34m(\u001b[0m\u001b[0mtic_tac\u001b[0m\u001b[0;34m(\u001b[0m\u001b[0;34m)\u001b[0m\u001b[0;34m)\u001b[0m\u001b[0;34m,\u001b[0m \u001b[0mTask\u001b[0m\u001b[0;34m(\u001b[0m\u001b[0mtic_tac\u001b[0m\u001b[0;34m(\u001b[0m\u001b[0;34m)\u001b[0m\u001b[0;34m)\u001b[0m\u001b[0;34m)\u001b[0m\u001b[0;34m\u001b[0m\u001b[0;34m\u001b[0m\u001b[0m\n\u001b[0m",
      "\u001b[0;31mTypeError\u001b[0m: run_until_complete() takes 2 positional arguments but 3 were given"
     ]
    }
   ],
   "source": [
    "event_loop = Loop()\n",
    "event_loop.run_until_complete(Task(tic_tac()), Task(tic_tac()))"
   ]
  },
  {
   "cell_type": "code",
   "execution_count": 162,
   "metadata": {},
   "outputs": [
    {
     "name": "stdout",
     "output_type": "stream",
     "text": [
      "0\n",
      "1\n",
      "2\n",
      "3\n",
      "4\n"
     ]
    }
   ],
   "source": [
    "for _ in range(5):\n",
    "    print(_)"
   ]
  },
  {
   "cell_type": "code",
   "execution_count": 166,
   "metadata": {},
   "outputs": [],
   "source": [
    "def ensure_future(coro, loop=None):\n",
    "    if not loop:\n",
    "        loop = DEFAULT_LOOP\n",
    "    return loop.schedule(coro)"
   ]
  },
  {
   "cell_type": "code",
   "execution_count": 205,
   "metadata": {},
   "outputs": [],
   "source": [
    "DEFAULT_LOOP = Loop()\n",
    "\n",
    "def cancel(task):\n",
    "    task.cancel()\n",
    "    yield\n",
    "\n",
    "def sub_task():\n",
    "    print('Task subtask')\n",
    "    for _ in range(5):\n",
    "        print('(substask)')\n",
    "        yield\n",
    "\n",
    "def example():\n",
    "    print('Task example')\n",
    "    print('Subtask task is starting ...')\n",
    "    sub = ensure_future(sub_task())\n",
    "    print('Return to example')\n",
    "    for _ in range(3):\n",
    "        print('(example)')\n",
    "        yield\n",
    "    yield from cancel(sub)\n",
    "    \n",
    "    "
   ]
  },
  {
   "cell_type": "code",
   "execution_count": 206,
   "metadata": {},
   "outputs": [],
   "source": [
    "event_loop = DEFAULT_LOOP"
   ]
  },
  {
   "cell_type": "code",
   "execution_count": 207,
   "metadata": {},
   "outputs": [
    {
     "name": "stdout",
     "output_type": "stream",
     "text": [
      "Task example\n",
      "Subtask task is starting ...\n",
      "Return to example\n",
      "(example)\n",
      "Task subtask\n",
      "(substask)\n",
      "(example)\n",
      "(substask)\n",
      "(example)\n",
      "(substask)\n",
      "<Task \"sub_task\" [CANCELLED] >\n",
      "<Task \"example\" [FINISHED] (None)>\n"
     ]
    }
   ],
   "source": [
    "event_loop.run_until_complete(example())"
   ]
  },
  {
   "cell_type": "code",
   "execution_count": 195,
   "metadata": {},
   "outputs": [],
   "source": [
    "event_loop.run_until_empty()"
   ]
  },
  {
   "cell_type": "code",
   "execution_count": null,
   "metadata": {},
   "outputs": [],
   "source": []
  }
 ],
 "metadata": {
  "kernelspec": {
   "display_name": "Python 3",
   "language": "python",
   "name": "python3"
  },
  "language_info": {
   "codemirror_mode": {
    "name": "ipython",
    "version": 3
   },
   "file_extension": ".py",
   "mimetype": "text/x-python",
   "name": "python",
   "nbconvert_exporter": "python",
   "pygments_lexer": "ipython3",
   "version": "3.7.3"
  }
 },
 "nbformat": 4,
 "nbformat_minor": 2
}
