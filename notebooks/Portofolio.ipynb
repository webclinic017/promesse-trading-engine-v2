{
 "cells": [
  {
   "cell_type": "code",
   "execution_count": 1,
   "metadata": {},
   "outputs": [],
   "source": [
    "import numpy as np\n",
    "\n",
    "class Portfolio:\n",
    "    def __init__(self):\n",
    "        self.symbol_list = ['BTC-USDT', 'ETH-BTC']\n",
    "        \n",
    "        self.current_positions = dict((s, 0.0) for s in self.symbol_list)\n",
    "        self.all_positions = self._construct_all_positions()\n",
    "        \n",
    "        self.current_holdings = self._construct_current_holdings()\n",
    "        self.all_holdings = self._construct_all_holdings()\n",
    "        \n",
    "    def _construct_all_positions(self):\n",
    "        position = dict((s, 0.0) for s in self.symbol_list)\n",
    "        position['datetime'] = 'start_date'\n",
    "        return [position]\n",
    "    \n",
    "    def _construct_current_holdings(self):\n",
    "        holding = {\n",
    "            s: {\n",
    "                'open_price': 0.0,\n",
    "                'current_value': 0.0,\n",
    "                'trailing_sl': 0.0\n",
    "            }\n",
    "            for s in self.symbol_list\n",
    "        }\n",
    "        holding['cash'] = holding['total'] = 10\n",
    "        holding['fees'] = 0.0\n",
    "        \n",
    "        return holding\n",
    "    \n",
    "    def _construct_all_holdings(self):\n",
    "        holding = self._construct_current_holdings()\n",
    "        holding['datetime'] = 'start_date'\n",
    "        \n",
    "        return [holding]"
   ]
  },
  {
   "cell_type": "code",
   "execution_count": 2,
   "metadata": {},
   "outputs": [],
   "source": [
    "portfolio = Portfolio()"
   ]
  },
  {
   "cell_type": "code",
   "execution_count": 3,
   "metadata": {},
   "outputs": [
    {
     "data": {
      "text/plain": [
       "{'BTC-USDT': {'open_price': 0.0, 'current_value': 0.0, 'trailing_sl': 0.0},\n",
       " 'ETH-BTC': {'open_price': 0.0, 'current_value': 0.0, 'trailing_sl': 0.0},\n",
       " 'cash': 10,\n",
       " 'total': 10,\n",
       " 'fees': 0.0}"
      ]
     },
     "execution_count": 3,
     "metadata": {},
     "output_type": "execute_result"
    }
   ],
   "source": [
    "portfolio.current_holdings"
   ]
  },
  {
   "cell_type": "code",
   "execution_count": 4,
   "metadata": {},
   "outputs": [
    {
     "data": {
      "text/plain": [
       "[{'BTC-USDT': {'open_price': 0.0, 'current_value': 0.0, 'trailing_sl': 0.0},\n",
       "  'ETH-BTC': {'open_price': 0.0, 'current_value': 0.0, 'trailing_sl': 0.0},\n",
       "  'cash': 10,\n",
       "  'total': 10,\n",
       "  'fees': 0.0,\n",
       "  'datetime': 'start_date'}]"
      ]
     },
     "execution_count": 4,
     "metadata": {},
     "output_type": "execute_result"
    }
   ],
   "source": [
    "portfolio.all_holdings"
   ]
  },
  {
   "cell_type": "code",
   "execution_count": 5,
   "metadata": {},
   "outputs": [
    {
     "data": {
      "text/plain": [
       "{'BTC-USDT': 0.0, 'ETH-BTC': 0.0}"
      ]
     },
     "execution_count": 5,
     "metadata": {},
     "output_type": "execute_result"
    }
   ],
   "source": [
    "portfolio.current_positions"
   ]
  },
  {
   "cell_type": "code",
   "execution_count": 6,
   "metadata": {},
   "outputs": [],
   "source": [
    "portfolio.all_positions.append({\n",
    "    **portfolio.current_positions,\n",
    "    'datetime': 'current_date'\n",
    "})"
   ]
  },
  {
   "cell_type": "code",
   "execution_count": 7,
   "metadata": {},
   "outputs": [
    {
     "data": {
      "text/plain": [
       "[{'BTC-USDT': 0.0, 'ETH-BTC': 0.0, 'datetime': 'start_date'},\n",
       " {'BTC-USDT': 0.0, 'ETH-BTC': 0.0, 'datetime': 'current_date'}]"
      ]
     },
     "execution_count": 7,
     "metadata": {},
     "output_type": "execute_result"
    }
   ],
   "source": [
    "portfolio.all_positions"
   ]
  },
  {
   "cell_type": "code",
   "execution_count": 8,
   "metadata": {},
   "outputs": [],
   "source": [
    "def trailing_sl(open_price, current_value, pct_sl, pct_tp):\n",
    "    returns = (current_value / open_price) - 1\n",
    "    trailing_sl = None\n",
    "    if returns >= pct_tp:\n",
    "        trailing_sl = current_value*(1-pct_sl)\n",
    "    else:\n",
    "        trailing_sl = open_price*(1-pct_sl)\n",
    "        \n",
    "    return trailing_sl"
   ]
  },
  {
   "cell_type": "code",
   "execution_count": 211,
   "metadata": {},
   "outputs": [
    {
     "data": {
      "text/plain": [
       "<function __main__.trailing_sl.<locals>.compute_sl(current_value)>"
      ]
     },
     "execution_count": 211,
     "metadata": {},
     "output_type": "execute_result"
    }
   ],
   "source": [
    "trailing_sl(100, 110, 0.02, 0.05)"
   ]
  },
  {
   "cell_type": "code",
   "execution_count": 9,
   "metadata": {},
   "outputs": [],
   "source": [
    "def trailing_sl(symbol, open_price, pct_sl, pct_tp):\n",
    "    trailing_dict = dict()\n",
    "    trailing_dict[symbol] = open_price*(1-pct_sl)\n",
    "    \n",
    "    def compute_sl(current_value):\n",
    "        returns = (current_value / open_price) - 1\n",
    "        current_trailing_sl = 0.0\n",
    "        if returns >= pct_tp:\n",
    "            current_trailing_sl = current_value*(1-pct_sl)\n",
    "        \n",
    "        trailing_dict[symbol] = max(trailing_dict[symbol], current_trailing_sl)\n",
    "        return trailing_dict[symbol]\n",
    "    \n",
    "    return compute_sl"
   ]
  },
  {
   "cell_type": "code",
   "execution_count": 10,
   "metadata": {},
   "outputs": [],
   "source": [
    "init_trailing = dict((symbol, 0.0) for symbol in ['BTC-USDT', 'ETH-BTC'])"
   ]
  },
  {
   "cell_type": "code",
   "execution_count": 11,
   "metadata": {},
   "outputs": [],
   "source": [
    "init_trailing['ETH-BTC'] = trailing_sl('ETH-BTC', 100, 0.02, 0.05)"
   ]
  },
  {
   "cell_type": "code",
   "execution_count": 12,
   "metadata": {},
   "outputs": [],
   "source": [
    "init_trailing['BTC-USDT'] = trailing_sl('BTC-USD', 130, 0.02, 0.05)"
   ]
  },
  {
   "cell_type": "code",
   "execution_count": 13,
   "metadata": {},
   "outputs": [
    {
     "data": {
      "text/plain": [
       "{'BTC-USDT': <function __main__.trailing_sl.<locals>.compute_sl(current_value)>,\n",
       " 'ETH-BTC': <function __main__.trailing_sl.<locals>.compute_sl(current_value)>}"
      ]
     },
     "execution_count": 13,
     "metadata": {},
     "output_type": "execute_result"
    }
   ],
   "source": [
    "init_trailing"
   ]
  },
  {
   "cell_type": "code",
   "execution_count": 202,
   "metadata": {},
   "outputs": [
    {
     "data": {
      "text/plain": [
       "470.4"
      ]
     },
     "execution_count": 202,
     "metadata": {},
     "output_type": "execute_result"
    }
   ],
   "source": []
  },
  {
   "cell_type": "code",
   "execution_count": 217,
   "metadata": {},
   "outputs": [
    {
     "data": {
      "text/plain": [
       "882.0"
      ]
     },
     "execution_count": 217,
     "metadata": {},
     "output_type": "execute_result"
    }
   ],
   "source": [
    "init_trailing['BTC-USDT'](900)"
   ]
  },
  {
   "cell_type": "code",
   "execution_count": 221,
   "metadata": {},
   "outputs": [
    {
     "data": {
      "text/plain": [
       "470.4"
      ]
     },
     "execution_count": 221,
     "metadata": {},
     "output_type": "execute_result"
    }
   ],
   "source": [
    "init_trailing['ETH-BTC'](480)"
   ]
  },
  {
   "cell_type": "code",
   "execution_count": null,
   "metadata": {},
   "outputs": [],
   "source": []
  }
 ],
 "metadata": {
  "kernelspec": {
   "display_name": "Python 3",
   "language": "python",
   "name": "python3"
  },
  "language_info": {
   "codemirror_mode": {
    "name": "ipython",
    "version": 3
   },
   "file_extension": ".py",
   "mimetype": "text/x-python",
   "name": "python",
   "nbconvert_exporter": "python",
   "pygments_lexer": "ipython3",
   "version": "3.7.3"
  }
 },
 "nbformat": 4,
 "nbformat_minor": 2
}
