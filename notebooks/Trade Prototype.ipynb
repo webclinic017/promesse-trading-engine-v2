{
 "cells": [
  {
   "cell_type": "code",
   "execution_count": 19,
   "metadata": {},
   "outputs": [],
   "source": [
    "class Trade:\n",
    "\n",
    "    trades = list()\n",
    "\n",
    "    def __init__(self):\n",
    "        self.symbol = 'BTC-USDT'\n",
    "        self.is_open = True\n",
    "\n",
    "        self.open_price = 1\n",
    "        self.close_price = None\n",
    "\n",
    "        self.open_date = '2019-01-01'\n",
    "        self.close_date = None\n",
    "\n",
    "        self.fee_open = 0.1\n",
    "        self.fee_close = None\n",
    "\n",
    "        self.sell_reason = None\n",
    "\n",
    "        self.timeframe = '1h'\n",
    "        self.strategy = 'PPRSI'\n",
    "\n",
    "    @classmethod\n",
    "    def open(cls):\n",
    "        \n",
    "    \n",
    "    @classmethod\n",
    "    def close(cls):\n",
    "        pass"
   ]
  },
  {
   "cell_type": "code",
   "execution_count": 20,
   "metadata": {},
   "outputs": [
    {
     "name": "stdout",
     "output_type": "stream",
     "text": [
      "SS\n"
     ]
    }
   ],
   "source": [
    "Trade.open('SS')"
   ]
  },
  {
   "cell_type": "code",
   "execution_count": null,
   "metadata": {},
   "outputs": [],
   "source": []
  }
 ],
 "metadata": {
  "kernelspec": {
   "display_name": "Python 3",
   "language": "python",
   "name": "python3"
  },
  "language_info": {
   "codemirror_mode": {
    "name": "ipython",
    "version": 3
   },
   "file_extension": ".py",
   "mimetype": "text/x-python",
   "name": "python",
   "nbconvert_exporter": "python",
   "pygments_lexer": "ipython3",
   "version": "3.7.3"
  }
 },
 "nbformat": 4,
 "nbformat_minor": 2
}
