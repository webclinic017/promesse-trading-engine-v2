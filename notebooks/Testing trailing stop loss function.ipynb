{
 "cells": [
  {
   "cell_type": "code",
   "execution_count": 25,
   "metadata": {},
   "outputs": [],
   "source": [
    "import numpy as np\n",
    "import pandas as pd\n",
    "from pathlib import Path\n",
    "import json"
   ]
  },
  {
   "cell_type": "code",
   "execution_count": 26,
   "metadata": {},
   "outputs": [],
   "source": [
    "def init_trailing_long(open_price, pct_sl, pct_tp):\n",
    "    trailing = open_price*(1-pct_sl)\n",
    "\n",
    "    def update_sl(current_price):\n",
    "        nonlocal trailing\n",
    "\n",
    "        returns = (current_price / open_price) - 1\n",
    "        current_trailing = 0.0\n",
    "\n",
    "        if returns >= pct_tp:\n",
    "            current_trailing = current_price*(1-pct_sl)\n",
    "\n",
    "        trailing = max(trailing, current_trailing)\n",
    "\n",
    "        return trailing\n",
    "\n",
    "    return update_sl"
   ]
  },
  {
   "cell_type": "code",
   "execution_count": 50,
   "metadata": {},
   "outputs": [],
   "source": [
    "open_price=1000\n",
    "pct_sl=0.02\n",
    "pct_tp=0.06\n",
    "#current_price=[1000,1100, 1200, 1300, 800, 2000]\n",
    "current_price=1060"
   ]
  },
  {
   "cell_type": "code",
   "execution_count": 51,
   "metadata": {},
   "outputs": [],
   "source": [
    "res=init_trailing_long(open_price, pct_sl, pct_tp)"
   ]
  },
  {
   "cell_type": "code",
   "execution_count": 52,
   "metadata": {},
   "outputs": [
    {
     "data": {
      "text/plain": [
       "1038.8"
      ]
     },
     "execution_count": 52,
     "metadata": {},
     "output_type": "execute_result"
    }
   ],
   "source": [
    "res(current_price)"
   ]
  },
  {
   "cell_type": "code",
   "execution_count": null,
   "metadata": {},
   "outputs": [],
   "source": []
  }
 ],
 "metadata": {
  "kernelspec": {
   "display_name": "Python 3",
   "language": "python",
   "name": "python3"
  },
  "language_info": {
   "codemirror_mode": {
    "name": "ipython",
    "version": 3
   },
   "file_extension": ".py",
   "mimetype": "text/x-python",
   "name": "python",
   "nbconvert_exporter": "python",
   "pygments_lexer": "ipython3",
   "version": "3.7.1"
  }
 },
 "nbformat": 4,
 "nbformat_minor": 2
}
