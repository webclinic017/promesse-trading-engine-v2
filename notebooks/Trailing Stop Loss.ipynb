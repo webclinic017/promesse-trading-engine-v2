{
 "cells": [
  {
   "cell_type": "code",
   "execution_count": 77,
   "metadata": {},
   "outputs": [],
   "source": [
    "def trailing_sl(open_price, pct_sl, pct_tp):\n",
    "    trailing = open_price*(1-pct_sl)\n",
    "\n",
    "    def update_sl(current_value):\n",
    "        returns = (current_value / open_price) - 1\n",
    "        current_trailing = 0.0\n",
    "\n",
    "        if returns >= pct_tp:\n",
    "            current_trailing = current_value*(1-pct_sl)\n",
    "            \n",
    "        trailing = max(trailing, current_trailing)\n",
    "        \n",
    "        return trailing\n",
    "\n",
    "    return update_sl"
   ]
  },
  {
   "cell_type": "code",
   "execution_count": 78,
   "metadata": {},
   "outputs": [],
   "source": [
    "btc_sl = trailing_sl(100, 0.02, 0.05)"
   ]
  },
  {
   "cell_type": "code",
   "execution_count": 79,
   "metadata": {},
   "outputs": [
    {
     "data": {
      "text/plain": [
       "108.78"
      ]
     },
     "execution_count": 79,
     "metadata": {},
     "output_type": "execute_result"
    }
   ],
   "source": [
    "btc(111)"
   ]
  },
  {
   "cell_type": "code",
   "execution_count": 144,
   "metadata": {},
   "outputs": [],
   "source": [
    "def trailing_sl(open_price, pct_sl, pct_tp, direction):\n",
    "\n",
    "    if direction == 'LONG':\n",
    "        coef_dir = 1\n",
    "        fn = max\n",
    "        current_trailing = trailing\n",
    "    else:\n",
    "        coef_dir = -1\n",
    "        fn = min\n",
    "        current_trailing = 0\n",
    "        \n",
    "    trailing = open_price*(1-(pct_sl*coef_dir))\n",
    "\n",
    "    def update_sl(current_value):\n",
    "        nonlocal trailing\n",
    "        nonlocal current_trailing\n",
    "        \n",
    "        returns = (open_price / current_value)**coef_dir - 1\n",
    "\n",
    "        if returns >= pct_tp:\n",
    "            current_trailing = current_value*(1-(pct_sl*coef_dir))\n",
    "            \n",
    "        trailing = fn(\n",
    "            trailing, current_trailing)\n",
    "        \n",
    "        return trailing\n",
    "\n",
    "    return update_sl"
   ]
  },
  {
   "cell_type": "code",
   "execution_count": 145,
   "metadata": {},
   "outputs": [
    {
     "ename": "UnboundLocalError",
     "evalue": "local variable 'coef_dir' referenced before assignment",
     "output_type": "error",
     "traceback": [
      "\u001b[0;31m---------------------------------------------------------------------------\u001b[0m",
      "\u001b[0;31mUnboundLocalError\u001b[0m                         Traceback (most recent call last)",
      "\u001b[0;32m<ipython-input-145-ce74086d0ec5>\u001b[0m in \u001b[0;36m<module>\u001b[0;34m\u001b[0m\n\u001b[0;32m----> 1\u001b[0;31m \u001b[0mbtc_sl\u001b[0m \u001b[0;34m=\u001b[0m \u001b[0mtrailing_sl\u001b[0m\u001b[0;34m(\u001b[0m\u001b[0;36m100\u001b[0m\u001b[0;34m,\u001b[0m \u001b[0;36m0.02\u001b[0m\u001b[0;34m,\u001b[0m \u001b[0;36m0.05\u001b[0m\u001b[0;34m,\u001b[0m \u001b[0;34m'LONG'\u001b[0m\u001b[0;34m)\u001b[0m\u001b[0;34m\u001b[0m\u001b[0;34m\u001b[0m\u001b[0m\n\u001b[0m",
      "\u001b[0;32m<ipython-input-144-e967c766c7ce>\u001b[0m in \u001b[0;36mtrailing_sl\u001b[0;34m(open_price, pct_sl, pct_tp, direction)\u001b[0m\n\u001b[1;32m      1\u001b[0m \u001b[0;32mdef\u001b[0m \u001b[0mtrailing_sl\u001b[0m\u001b[0;34m(\u001b[0m\u001b[0mopen_price\u001b[0m\u001b[0;34m,\u001b[0m \u001b[0mpct_sl\u001b[0m\u001b[0;34m,\u001b[0m \u001b[0mpct_tp\u001b[0m\u001b[0;34m,\u001b[0m \u001b[0mdirection\u001b[0m\u001b[0;34m)\u001b[0m\u001b[0;34m:\u001b[0m\u001b[0;34m\u001b[0m\u001b[0;34m\u001b[0m\u001b[0m\n\u001b[0;32m----> 2\u001b[0;31m     \u001b[0mtrailing\u001b[0m \u001b[0;34m=\u001b[0m \u001b[0mopen_price\u001b[0m\u001b[0;34m*\u001b[0m\u001b[0;34m(\u001b[0m\u001b[0;36m1\u001b[0m\u001b[0;34m-\u001b[0m\u001b[0;34m(\u001b[0m\u001b[0mpct_sl\u001b[0m\u001b[0;34m*\u001b[0m\u001b[0mcoef_dir\u001b[0m\u001b[0;34m)\u001b[0m\u001b[0;34m)\u001b[0m\u001b[0;34m\u001b[0m\u001b[0;34m\u001b[0m\u001b[0m\n\u001b[0m\u001b[1;32m      3\u001b[0m \u001b[0;34m\u001b[0m\u001b[0m\n\u001b[1;32m      4\u001b[0m     \u001b[0;32mif\u001b[0m \u001b[0mdirection\u001b[0m \u001b[0;34m==\u001b[0m \u001b[0;34m'LONG'\u001b[0m\u001b[0;34m:\u001b[0m\u001b[0;34m\u001b[0m\u001b[0;34m\u001b[0m\u001b[0m\n\u001b[1;32m      5\u001b[0m         \u001b[0mcoef_dir\u001b[0m \u001b[0;34m=\u001b[0m \u001b[0;36m1\u001b[0m\u001b[0;34m\u001b[0m\u001b[0;34m\u001b[0m\u001b[0m\n",
      "\u001b[0;31mUnboundLocalError\u001b[0m: local variable 'coef_dir' referenced before assignment"
     ]
    }
   ],
   "source": [
    "btc_sl = trailing_sl(100, 0.02, 0.05, 'LONG')"
   ]
  },
  {
   "cell_type": "code",
   "execution_count": 143,
   "metadata": {},
   "outputs": [
    {
     "data": {
      "text/plain": [
       "98.0"
      ]
     },
     "execution_count": 143,
     "metadata": {},
     "output_type": "execute_result"
    }
   ],
   "source": [
    "btc_sl(1010)"
   ]
  },
  {
   "cell_type": "code",
   "execution_count": 1,
   "metadata": {},
   "outputs": [],
   "source": [
    "def stop_loss(open_price, pct_sl):\n",
    "    return open_price*(1-pct_sl)"
   ]
  },
  {
   "cell_type": "code",
   "execution_count": 2,
   "metadata": {},
   "outputs": [
    {
     "data": {
      "text/plain": [
       "98.0"
      ]
     },
     "execution_count": 2,
     "metadata": {},
     "output_type": "execute_result"
    }
   ],
   "source": [
    "stop_loss(100, 0.02)"
   ]
  },
  {
   "cell_type": "code",
   "execution_count": null,
   "metadata": {},
   "outputs": [],
   "source": []
  }
 ],
 "metadata": {
  "kernelspec": {
   "display_name": "Python 3",
   "language": "python",
   "name": "python3"
  },
  "language_info": {
   "codemirror_mode": {
    "name": "ipython",
    "version": 3
   },
   "file_extension": ".py",
   "mimetype": "text/x-python",
   "name": "python",
   "nbconvert_exporter": "python",
   "pygments_lexer": "ipython3",
   "version": "3.7.3"
  }
 },
 "nbformat": 4,
 "nbformat_minor": 2
}
