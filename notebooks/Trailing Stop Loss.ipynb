{
 "cells": [
  {
   "cell_type": "code",
   "execution_count": 33,
   "metadata": {},
   "outputs": [],
   "source": [
    "def trailing_sl(open_price, pct_sl, pct_tp):\n",
    "        trailing = open_price*(1-pct_sl)\n",
    "\n",
    "        def update_sl(current_price):\n",
    "            nonlocal trailing\n",
    "            nonlocal pct_sl\n",
    "\n",
    "            returns = (current_price / open_price) - 1\n",
    "            current_trailing = 0.0\n",
    "\n",
    "            if returns >= pct_tp:\n",
    "                pct_sl = pct_sl/2\n",
    "                current_trailing = current_price*(1-(pct_sl/2))\n",
    "\n",
    "            trailing = max(trailing, current_trailing)\n",
    "\n",
    "            return trailing\n",
    "\n",
    "        return update_sl"
   ]
  },
  {
   "cell_type": "code",
   "execution_count": 41,
   "metadata": {},
   "outputs": [],
   "source": [
    "btc_sl = trailing_sl(100, 0.06, 0.05)"
   ]
  },
  {
   "cell_type": "code",
   "execution_count": 48,
   "metadata": {},
   "outputs": [
    {
     "data": {
      "text/plain": [
       "1339.371875"
      ]
     },
     "execution_count": 48,
     "metadata": {},
     "output_type": "execute_result"
    }
   ],
   "source": [
    "btc_sl(1340)"
   ]
  },
  {
   "cell_type": "code",
   "execution_count": null,
   "metadata": {},
   "outputs": [],
   "source": []
  }
 ],
 "metadata": {
  "kernelspec": {
   "display_name": "Python 3",
   "language": "python",
   "name": "python3"
  },
  "language_info": {
   "codemirror_mode": {
    "name": "ipython",
    "version": 3
   },
   "file_extension": ".py",
   "mimetype": "text/x-python",
   "name": "python",
   "nbconvert_exporter": "python",
   "pygments_lexer": "ipython3",
   "version": "3.7.3"
  }
 },
 "nbformat": 4,
 "nbformat_minor": 2
}
