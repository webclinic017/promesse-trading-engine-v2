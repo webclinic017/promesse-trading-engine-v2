{
 "cells": [
  {
   "cell_type": "code",
   "execution_count": 880,
   "metadata": {},
   "outputs": [],
   "source": [
    "import pandas as pd\n",
    "import numpy as np\n",
    "import plotly.graph_objects as go\n",
    "from plotly.subplots import make_subplots\n",
    "import talib\n",
    "from math import floor"
   ]
  },
  {
   "cell_type": "code",
   "execution_count": 310,
   "metadata": {},
   "outputs": [],
   "source": [
    "def open_ticker_csv(ticker_name: str, timeframe: str, directory: str) -> pd.DataFrame:\n",
    "    ticker_name = '-'.join(ticker_name.split('/'))\n",
    "    ticker_name = f'{ticker_name}_{timeframe}' if timeframe else f'{ticker_name}'\n",
    "    ticker_path = f'{directory}/{ticker_name}.csv'\n",
    "    columns_names = ('timestamp', 'open', 'high', 'low', 'close', 'volume')\n",
    "\n",
    "    ticker = pd.read_csv(ticker_path,\n",
    "                         index_col=0,\n",
    "                         header=None,\n",
    "                         names=columns_names)\n",
    "\n",
    "    return ticker"
   ]
  },
  {
   "cell_type": "code",
   "execution_count": 311,
   "metadata": {},
   "outputs": [],
   "source": [
    "def clean_ticker(ticker: pd.DataFrame) -> pd.DataFrame:\n",
    "    ticker_copy = ticker.copy()\n",
    "    ticker_copy.index = pd.to_datetime(ticker_copy.index, unit='ms')\n",
    "    ticker_copy = ticker_copy.drop_duplicates().sort_index()\n",
    "\n",
    "    return ticker_copy"
   ]
  },
  {
   "cell_type": "code",
   "execution_count": 312,
   "metadata": {},
   "outputs": [],
   "source": [
    "def reindex_tickers(tickers: dict) -> dict:\n",
    "    combined_ticker_index = None\n",
    "    reindexed_tickers = dict()\n",
    "\n",
    "    for ticker in tickers.values():\n",
    "        if combined_ticker_index is None:\n",
    "            combined_ticker_index = ticker.index\n",
    "        else:\n",
    "            combined_ticker_index = combined_ticker_index.union(ticker.index)\n",
    "\n",
    "    for ticker, data in tickers.items():\n",
    "        data = data.reindex(index=combined_ticker_index,\n",
    "                            method='pad',\n",
    "                            fill_value=np.nan)\n",
    "        reindexed_tickers[ticker] = data\n",
    "\n",
    "    return reindexed_tickers"
   ]
  },
  {
   "cell_type": "code",
   "execution_count": 313,
   "metadata": {},
   "outputs": [],
   "source": [
    "def find_pos_price(price, price_set):\n",
    "    return len(price_set) - np.where(price_set == price)[0][0]"
   ]
  },
  {
   "cell_type": "code",
   "execution_count": 897,
   "metadata": {},
   "outputs": [],
   "source": [
    "def BULL_DIV(price_set, rsi_set, price_pk_prominence, window=1):\n",
    "    from scipy.signal import find_peaks\n",
    "\n",
    "    peaks_price, _ = find_peaks(-price_set, prominence=price_pk_prominence)\n",
    "    ref_price = [price_set[item]\n",
    "                 for item in peaks_price]\n",
    "    ref_rsi = [rsi_set[item]\n",
    "               for item in peaks_price]\n",
    "    \n",
    "    print(ref_price)\n",
    "\n",
    "    counter = 0\n",
    "    for i in range(len(ref_price)-1, 0, -1):\n",
    "        if price_set[-1] < ref_price[i] and rsi_set[-1] > ref_rsi[i]:\n",
    "            counter += 1\n",
    "            latest_peak_price = ref_price[i]\n",
    "            latest_peak_rsi = ref_rsi[i]\n",
    "\n",
    "        if counter == window:\n",
    "            return {\n",
    "                'is_div': True,\n",
    "                'price_peaks': (price_set[-1], latest_peak_price),\n",
    "                'rsi_peaks': (rsi_set[-1], latest_peak_rsi)\n",
    "            }\n",
    "    return False\n",
    "\n",
    "def BULL_DIV_RSI(price_set, rsi_set, rsi_pk_prominence, window=1):\n",
    "    from scipy.signal import find_peaks\n",
    "\n",
    "    peaks_rsi, _ = find_peaks(-rsi_set, prominence=rsi_pk_prominence)\n",
    "    ref_price = [price_set[item]\n",
    "                 for item in peaks_rsi]\n",
    "    ref_rsi = [rsi_set[item]\n",
    "               for item in peaks_rsi]\n",
    "    \n",
    "    print(ref_price)\n",
    "\n",
    "    counter = 0\n",
    "    for i in range(len(ref_price)-1, 0, -1):\n",
    "        if price_set[-1] < ref_price[i] and rsi_set[-1] > ref_rsi[i]:\n",
    "            counter += 1\n",
    "            latest_peak_price = ref_price[i]\n",
    "            latest_peak_rsi = ref_rsi[i]\n",
    "\n",
    "        if counter == window:\n",
    "            return {\n",
    "                'is_div': True,\n",
    "                'price_peaks': (price_set[-1], latest_peak_price),\n",
    "                'rsi_peaks': (rsi_set[-1], latest_peak_rsi)\n",
    "            }\n",
    "    return False\n",
    "\n",
    "def BULL_DIV_2(price_set, rsi_set, price_pk_prominence):\n",
    "    from scipy.signal import find_peaks\n",
    "\n",
    "    peaks_price, _ = find_peaks(-price_set, prominence=price_pk_prominence)\n",
    "    ref_price = [price_set[item]\n",
    "                 for item in peaks_price]\n",
    "    ref_rsi = [rsi_set[item]\n",
    "               for item in peaks_price]\n",
    "    \n",
    "    latest_price = price_set[-1]\n",
    "    latest_rsi = rsi_set[-1]\n",
    "    latest_peak_price = None\n",
    "    latest_peak_rsi = None\n",
    "    latest_peak_pos = None\n",
    "    is_div = False\n",
    "    \n",
    "    local_min = None\n",
    "    counter = 0\n",
    "    \n",
    "    print(ref_price)\n",
    "    \n",
    "    for i in range(len(ref_price)-1, 0, -1):\n",
    "        if floor(latest_price) < floor(ref_price[i]) and floor(latest_rsi) > floor(ref_rsi[i]):\n",
    "            latest_peak_price = ref_price[i]\n",
    "            latest_peak_rsi = ref_rsi[i]\n",
    "            latest_peak_pos = find_pos_price(latest_peak_price, price_set)\n",
    "            counter += 1\n",
    "            is_div = True\n",
    "            \n",
    "            for j in range(latest_peak_pos-1, 1, -1):\n",
    "                if latest_price > price_set[-j]:\n",
    "                    local_min = price_set[-j]\n",
    "                    is_div = False\n",
    "                    counter = 0\n",
    "                    break            \n",
    "    return {\n",
    "        'is_div': is_div,\n",
    "        'price_peaks': (price_set[-1], latest_peak_price),\n",
    "        'rsi_peaks': (rsi_set[-1], latest_peak_rsi),\n",
    "        'local_min': local_min,\n",
    "        'nb_div': counter\n",
    "    }\n",
    "\n",
    "def BULL_DIV_RSI_2(price_set, rsi_set, price_pk_prominence=1):\n",
    "    from scipy.signal import find_peaks\n",
    "\n",
    "    peaks_price, _ = find_peaks(-rsi_set, prominence=price_pk_prominence)\n",
    "    ref_price = [price_set[item]\n",
    "                 for item in peaks_price]\n",
    "    ref_rsi = [rsi_set[item]\n",
    "               for item in peaks_price]\n",
    "    \n",
    "    latest_price = price_set[-1]\n",
    "    latest_rsi = rsi_set[-1]\n",
    "    latest_peak_price = None\n",
    "    latest_peak_rsi = None\n",
    "    latest_peak_pos = None\n",
    "    is_div = False\n",
    "    \n",
    "    local_min = None\n",
    "    counter = 0\n",
    "    \n",
    "    print(price_set)\n",
    "    \n",
    "    for i in range(len(ref_price)-1, 0, -1):\n",
    "        if latest_price < ref_price[i] and latest_rsi > ref_rsi[i]:\n",
    "            latest_peak_price = ref_price[i]\n",
    "            latest_peak_rsi = ref_rsi[i]\n",
    "            latest_peak_pos = find_pos_price(latest_peak_price, price_set)\n",
    "            counter += 1\n",
    "            is_div = True\n",
    "            \n",
    "            for j in range(latest_peak_pos-1, 1, -1):\n",
    "                if latest_price > price_set[-j]:\n",
    "                    local_min = price_set[-j]\n",
    "                    is_div = False\n",
    "                    counter = 0\n",
    "                    break            \n",
    "    return {\n",
    "        'is_div': is_div,\n",
    "        'price_peaks': (price_set[-1], latest_peak_price),\n",
    "        'rsi_peaks': (rsi_set[-1], latest_peak_rsi),\n",
    "        'local_min': local_min,\n",
    "        'nb_div': counter\n",
    "    }"
   ]
  },
  {
   "cell_type": "code",
   "execution_count": 898,
   "metadata": {},
   "outputs": [
    {
     "name": "stderr",
     "output_type": "stream",
     "text": [
      "/Users/redamakhoukh/.local/share/virtualenvs/promesse_trading_engine_v2-NEvk7s3j/lib/python3.7/site-packages/ipykernel_launcher.py:9: SettingWithCopyWarning:\n",
      "\n",
      "\n",
      "A value is trying to be set on a copy of a slice from a DataFrame.\n",
      "Try using .loc[row_indexer,col_indexer] = value instead\n",
      "\n",
      "See the caveats in the documentation: http://pandas.pydata.org/pandas-docs/stable/user_guide/indexing.html#returning-a-view-versus-a-copy\n",
      "\n"
     ]
    }
   ],
   "source": [
    "data = open_ticker_csv('BTC/USDT', '15m', '../exchange_data')\n",
    "data = clean_ticker(data)\n",
    "start_date = '2017-01-14 00:00:00'\n",
    "end_date = '2019-01-15 15:00:00'\n",
    "mask = (data.index >= start_date) & (data.index <= end_date)\n",
    "data_custom = data.loc[mask]\n",
    "datetimes = data_custom.index\n",
    "close = data_custom['close']\n",
    "data_custom['rsi'] = talib.RSI(data_custom['close'])\n",
    "price_set = data_custom[data_custom['open'] > data_custom['close']]['low'].to_numpy()\n",
    "rsi_set = data_custom[data_custom['open'] > data_custom['close']]['rsi'].to_numpy()"
   ]
  },
  {
   "cell_type": "code",
   "execution_count": 899,
   "metadata": {},
   "outputs": [
    {
     "name": "stdout",
     "output_type": "stream",
     "text": [
      "[3578.07, 3598.84]\n"
     ]
    },
    {
     "data": {
      "text/plain": [
       "{'is_div': True,\n",
       " 'price_peaks': (3580.0, 3598.84),\n",
       " 'rsi_peaks': (41.04298992562801, 40.57527915450784)}"
      ]
     },
     "execution_count": 899,
     "metadata": {},
     "output_type": "execute_result"
    }
   ],
   "source": [
    "BULL_DIV(price_set[-20:], rsi_set[-20:], 10, window=1)"
   ]
  },
  {
   "cell_type": "code",
   "execution_count": 907,
   "metadata": {
    "scrolled": true
   },
   "outputs": [
    {
     "name": "stdout",
     "output_type": "stream",
     "text": [
      "[3578.07]\n"
     ]
    },
    {
     "data": {
      "text/plain": [
       "{'is_div': False,\n",
       " 'price_peaks': (3580.0, None),\n",
       " 'rsi_peaks': (41.04298992562801, None),\n",
       " 'local_min': None,\n",
       " 'nb_div': 0}"
      ]
     },
     "execution_count": 907,
     "metadata": {},
     "output_type": "execute_result"
    }
   ],
   "source": [
    "BULL_DIV_2(price_set[-20:], rsi_set[-20:], 15)"
   ]
  },
  {
   "cell_type": "code",
   "execution_count": 888,
   "metadata": {},
   "outputs": [
    {
     "name": "stdout",
     "output_type": "stream",
     "text": [
      "[7950.   7903.02 7910.   7861.   7862.01 7875.01 7817.01 7811.   7836.01\n",
      " 7818.84 7797.46 7710.   7852.69 7886.56 7837.56 7817.   7817.86 7870.78\n",
      " 7857.14 7784.57]\n"
     ]
    },
    {
     "data": {
      "text/plain": [
       "{'is_div': False,\n",
       " 'price_peaks': (7784.57, 7811.0),\n",
       " 'rsi_peaks': (43.97520410574324, 35.89088112637818),\n",
       " 'local_min': 7710.0,\n",
       " 'nb_div': 0}"
      ]
     },
     "execution_count": 888,
     "metadata": {},
     "output_type": "execute_result"
    }
   ],
   "source": [
    "BULL_DIV_RSI_2(price_set[-20:], rsi_set[-20:])"
   ]
  },
  {
   "cell_type": "code",
   "execution_count": 144,
   "metadata": {},
   "outputs": [
    {
     "data": {
      "text/plain": [
       "Timestamp('2019-05-17 06:00:00')"
      ]
     },
     "execution_count": 144,
     "metadata": {},
     "output_type": "execute_result"
    }
   ],
   "source": []
  },
  {
   "cell_type": "code",
   "execution_count": 166,
   "metadata": {},
   "outputs": [
    {
     "data": {
      "text/plain": [
       "15"
      ]
     },
     "execution_count": 166,
     "metadata": {},
     "output_type": "execute_result"
    }
   ],
   "source": [
    "np.where(price_set[-20:] == 7150.33)[0][0]"
   ]
  },
  {
   "cell_type": "code",
   "execution_count": 169,
   "metadata": {},
   "outputs": [
    {
     "data": {
      "text/plain": [
       "5"
      ]
     },
     "execution_count": 169,
     "metadata": {},
     "output_type": "execute_result"
    }
   ],
   "source": [
    "len(price_set[-20:]) - np.where(price_set[-20:] == 7150.33)[0][0]"
   ]
  },
  {
   "cell_type": "code",
   "execution_count": 172,
   "metadata": {},
   "outputs": [],
   "source": [
    "def find_pos_price(price, price_set):\n",
    "    return len(price_set) - np.where(price_set == price)[0][0]"
   ]
  },
  {
   "cell_type": "code",
   "execution_count": 173,
   "metadata": {},
   "outputs": [
    {
     "data": {
      "text/plain": [
       "5"
      ]
     },
     "execution_count": 173,
     "metadata": {},
     "output_type": "execute_result"
    }
   ],
   "source": [
    "find_pos_price(7150.33, price_set[-20:])"
   ]
  },
  {
   "cell_type": "code",
   "execution_count": 478,
   "metadata": {},
   "outputs": [
    {
     "data": {
      "text/html": [
       "<div>\n",
       "<style scoped>\n",
       "    .dataframe tbody tr th:only-of-type {\n",
       "        vertical-align: middle;\n",
       "    }\n",
       "\n",
       "    .dataframe tbody tr th {\n",
       "        vertical-align: top;\n",
       "    }\n",
       "\n",
       "    .dataframe thead th {\n",
       "        text-align: right;\n",
       "    }\n",
       "</style>\n",
       "<table border=\"1\" class=\"dataframe\">\n",
       "  <thead>\n",
       "    <tr style=\"text-align: right;\">\n",
       "      <th></th>\n",
       "      <th>open</th>\n",
       "      <th>high</th>\n",
       "      <th>low</th>\n",
       "      <th>close</th>\n",
       "      <th>volume</th>\n",
       "      <th>rsi</th>\n",
       "    </tr>\n",
       "    <tr>\n",
       "      <th>timestamp</th>\n",
       "      <th></th>\n",
       "      <th></th>\n",
       "      <th></th>\n",
       "      <th></th>\n",
       "      <th></th>\n",
       "      <th></th>\n",
       "    </tr>\n",
       "  </thead>\n",
       "  <tbody>\n",
       "    <tr>\n",
       "      <td>2018-09-14 00:00:00</td>\n",
       "      <td>6487.39</td>\n",
       "      <td>6501.24</td>\n",
       "      <td>6454.68</td>\n",
       "      <td>6461.76</td>\n",
       "      <td>1105.991892</td>\n",
       "      <td>NaN</td>\n",
       "    </tr>\n",
       "    <tr>\n",
       "      <td>2018-09-14 01:00:00</td>\n",
       "      <td>6462.79</td>\n",
       "      <td>6495.09</td>\n",
       "      <td>6460.16</td>\n",
       "      <td>6488.99</td>\n",
       "      <td>896.648992</td>\n",
       "      <td>NaN</td>\n",
       "    </tr>\n",
       "    <tr>\n",
       "      <td>2018-09-14 02:00:00</td>\n",
       "      <td>6488.99</td>\n",
       "      <td>6565.68</td>\n",
       "      <td>6488.77</td>\n",
       "      <td>6551.00</td>\n",
       "      <td>2592.849598</td>\n",
       "      <td>NaN</td>\n",
       "    </tr>\n",
       "    <tr>\n",
       "      <td>2018-09-14 03:00:00</td>\n",
       "      <td>6551.00</td>\n",
       "      <td>6584.99</td>\n",
       "      <td>6542.13</td>\n",
       "      <td>6542.37</td>\n",
       "      <td>1584.898259</td>\n",
       "      <td>NaN</td>\n",
       "    </tr>\n",
       "    <tr>\n",
       "      <td>2018-09-14 04:00:00</td>\n",
       "      <td>6545.79</td>\n",
       "      <td>6570.00</td>\n",
       "      <td>6535.41</td>\n",
       "      <td>6545.00</td>\n",
       "      <td>1370.341288</td>\n",
       "      <td>NaN</td>\n",
       "    </tr>\n",
       "    <tr>\n",
       "      <td>...</td>\n",
       "      <td>...</td>\n",
       "      <td>...</td>\n",
       "      <td>...</td>\n",
       "      <td>...</td>\n",
       "      <td>...</td>\n",
       "      <td>...</td>\n",
       "    </tr>\n",
       "    <tr>\n",
       "      <td>2018-11-20 17:00:00</td>\n",
       "      <td>4854.14</td>\n",
       "      <td>4870.47</td>\n",
       "      <td>4631.00</td>\n",
       "      <td>4640.33</td>\n",
       "      <td>5903.448523</td>\n",
       "      <td>39.112416</td>\n",
       "    </tr>\n",
       "    <tr>\n",
       "      <td>2018-11-20 18:00:00</td>\n",
       "      <td>4644.73</td>\n",
       "      <td>4745.34</td>\n",
       "      <td>4635.05</td>\n",
       "      <td>4729.51</td>\n",
       "      <td>3396.254230</td>\n",
       "      <td>43.827191</td>\n",
       "    </tr>\n",
       "    <tr>\n",
       "      <td>2018-11-20 19:00:00</td>\n",
       "      <td>4727.90</td>\n",
       "      <td>4769.49</td>\n",
       "      <td>4651.32</td>\n",
       "      <td>4673.93</td>\n",
       "      <td>2228.087833</td>\n",
       "      <td>41.661943</td>\n",
       "    </tr>\n",
       "    <tr>\n",
       "      <td>2018-11-20 20:00:00</td>\n",
       "      <td>4673.78</td>\n",
       "      <td>4674.98</td>\n",
       "      <td>4326.00</td>\n",
       "      <td>4495.26</td>\n",
       "      <td>11546.204000</td>\n",
       "      <td>35.577067</td>\n",
       "    </tr>\n",
       "    <tr>\n",
       "      <td>2018-11-20 21:00:00</td>\n",
       "      <td>4496.00</td>\n",
       "      <td>4628.00</td>\n",
       "      <td>4426.00</td>\n",
       "      <td>4542.55</td>\n",
       "      <td>5985.289273</td>\n",
       "      <td>38.151854</td>\n",
       "    </tr>\n",
       "  </tbody>\n",
       "</table>\n",
       "<p>1620 rows × 6 columns</p>\n",
       "</div>"
      ],
      "text/plain": [
       "                        open     high      low    close        volume  \\\n",
       "timestamp                                                               \n",
       "2018-09-14 00:00:00  6487.39  6501.24  6454.68  6461.76   1105.991892   \n",
       "2018-09-14 01:00:00  6462.79  6495.09  6460.16  6488.99    896.648992   \n",
       "2018-09-14 02:00:00  6488.99  6565.68  6488.77  6551.00   2592.849598   \n",
       "2018-09-14 03:00:00  6551.00  6584.99  6542.13  6542.37   1584.898259   \n",
       "2018-09-14 04:00:00  6545.79  6570.00  6535.41  6545.00   1370.341288   \n",
       "...                      ...      ...      ...      ...           ...   \n",
       "2018-11-20 17:00:00  4854.14  4870.47  4631.00  4640.33   5903.448523   \n",
       "2018-11-20 18:00:00  4644.73  4745.34  4635.05  4729.51   3396.254230   \n",
       "2018-11-20 19:00:00  4727.90  4769.49  4651.32  4673.93   2228.087833   \n",
       "2018-11-20 20:00:00  4673.78  4674.98  4326.00  4495.26  11546.204000   \n",
       "2018-11-20 21:00:00  4496.00  4628.00  4426.00  4542.55   5985.289273   \n",
       "\n",
       "                           rsi  \n",
       "timestamp                       \n",
       "2018-09-14 00:00:00        NaN  \n",
       "2018-09-14 01:00:00        NaN  \n",
       "2018-09-14 02:00:00        NaN  \n",
       "2018-09-14 03:00:00        NaN  \n",
       "2018-09-14 04:00:00        NaN  \n",
       "...                        ...  \n",
       "2018-11-20 17:00:00  39.112416  \n",
       "2018-11-20 18:00:00  43.827191  \n",
       "2018-11-20 19:00:00  41.661943  \n",
       "2018-11-20 20:00:00  35.577067  \n",
       "2018-11-20 21:00:00  38.151854  \n",
       "\n",
       "[1620 rows x 6 columns]"
      ]
     },
     "execution_count": 478,
     "metadata": {},
     "output_type": "execute_result"
    }
   ],
   "source": [
    "data_custom"
   ]
  },
  {
   "cell_type": "code",
   "execution_count": 11,
   "metadata": {},
   "outputs": [],
   "source": [
    "fig = make_subplots(\n",
    "    rows=2, cols=1,\n",
    "    shared_xaxes=True,\n",
    "    vertical_spacing=0.03,\n",
    "    specs=\n",
    "           [[{\"type\": \"scatter\"}],\n",
    "           [{\"type\": \"scatter\"}]]\n",
    ")"
   ]
  },
  {
   "cell_type": "code",
   "execution_count": 12,
   "metadata": {},
   "outputs": [
    {
     "ename": "NameError",
     "evalue": "name 'rsi' is not defined",
     "output_type": "error",
     "traceback": [
      "\u001b[0;31m---------------------------------------------------------------------------\u001b[0m",
      "\u001b[0;31mNameError\u001b[0m                                 Traceback (most recent call last)",
      "\u001b[0;32m<ipython-input-12-57b049be4a9b>\u001b[0m in \u001b[0;36m<module>\u001b[0;34m\u001b[0m\n\u001b[1;32m     12\u001b[0m     go.Scatter(\n\u001b[1;32m     13\u001b[0m         \u001b[0mx\u001b[0m\u001b[0;34m=\u001b[0m\u001b[0mdatetimes\u001b[0m\u001b[0;34m,\u001b[0m\u001b[0;34m\u001b[0m\u001b[0;34m\u001b[0m\u001b[0m\n\u001b[0;32m---> 14\u001b[0;31m         \u001b[0my\u001b[0m\u001b[0;34m=\u001b[0m\u001b[0mrsi\u001b[0m\u001b[0;34m,\u001b[0m\u001b[0;34m\u001b[0m\u001b[0;34m\u001b[0m\u001b[0m\n\u001b[0m\u001b[1;32m     15\u001b[0m         \u001b[0mmode\u001b[0m\u001b[0;34m=\u001b[0m\u001b[0;34m\"lines\"\u001b[0m\u001b[0;34m,\u001b[0m\u001b[0;34m\u001b[0m\u001b[0;34m\u001b[0m\u001b[0m\n\u001b[1;32m     16\u001b[0m         \u001b[0mname\u001b[0m\u001b[0;34m=\u001b[0m\u001b[0;34m\"RSI\"\u001b[0m\u001b[0;34m\u001b[0m\u001b[0;34m\u001b[0m\u001b[0m\n",
      "\u001b[0;31mNameError\u001b[0m: name 'rsi' is not defined"
     ]
    }
   ],
   "source": [
    "fig.add_trace(\n",
    "    go.Scatter(\n",
    "        x=datetimes,\n",
    "        y=close,\n",
    "        mode=\"lines\",\n",
    "        name=\"Closes\",\n",
    "    ),\n",
    "    row=1, col=1\n",
    ")\n",
    "\n",
    "fig.add_trace(\n",
    "    go.Scatter(\n",
    "        x=datetimes,\n",
    "        y=rsi,\n",
    "        mode=\"lines\",\n",
    "        name=\"RSI\"\n",
    "    ),\n",
    "    row=2, col=1\n",
    ")\n",
    "\n",
    "\n",
    "fig.update_layout(\n",
    "    height=800,\n",
    "    showlegend=False,\n",
    "    title_text=\"BTC/USDT\",\n",
    ")\n",
    "\n",
    "fig.show()"
   ]
  },
  {
   "cell_type": "code",
   "execution_count": 188,
   "metadata": {},
   "outputs": [],
   "source": [
    "ls =  [0, 1, 2, 3, 4, 5]"
   ]
  },
  {
   "cell_type": "code",
   "execution_count": 196,
   "metadata": {},
   "outputs": [
    {
     "name": "stdout",
     "output_type": "stream",
     "text": [
      "4\n",
      "3\n",
      "2\n",
      "1\n"
     ]
    }
   ],
   "source": [
    "for i in range(len(ls)-2, 0, -1):\n",
    "    print(ls[i])"
   ]
  },
  {
   "cell_type": "code",
   "execution_count": 302,
   "metadata": {},
   "outputs": [],
   "source": [
    "test = {'hi': 123}"
   ]
  },
  {
   "cell_type": "code",
   "execution_count": 308,
   "metadata": {},
   "outputs": [
    {
     "data": {
      "text/plain": [
       "dict_keys(['hi'])"
      ]
     },
     "execution_count": 308,
     "metadata": {},
     "output_type": "execute_result"
    }
   ],
   "source": [
    "test.keys()"
   ]
  },
  {
   "cell_type": "code",
   "execution_count": 466,
   "metadata": {},
   "outputs": [],
   "source": [
    "def test():\n",
    "    v = None\n",
    "    for i in range(3):\n",
    "        if True:\n",
    "            if True:\n",
    "                v = 1\n",
    "    print(v)"
   ]
  },
  {
   "cell_type": "code",
   "execution_count": 467,
   "metadata": {},
   "outputs": [
    {
     "name": "stdout",
     "output_type": "stream",
     "text": [
      "1\n"
     ]
    }
   ],
   "source": [
    "test()"
   ]
  },
  {
   "cell_type": "code",
   "execution_count": null,
   "metadata": {},
   "outputs": [],
   "source": []
  }
 ],
 "metadata": {
  "kernelspec": {
   "display_name": "Python 3",
   "language": "python",
   "name": "python3"
  },
  "language_info": {
   "codemirror_mode": {
    "name": "ipython",
    "version": 3
   },
   "file_extension": ".py",
   "mimetype": "text/x-python",
   "name": "python",
   "nbconvert_exporter": "python",
   "pygments_lexer": "ipython3",
   "version": "3.7.3"
  }
 },
 "nbformat": 4,
 "nbformat_minor": 2
}
