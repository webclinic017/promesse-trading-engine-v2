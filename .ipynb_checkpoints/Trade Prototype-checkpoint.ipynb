{
 "cells": [
  {
   "cell_type": "code",
   "execution_count": 1,
   "metadata": {},
   "outputs": [],
   "source": [
    "class Trade:\n",
    "\n",
    "    trades = list()\n",
    "\n",
    "    def __init__(self):\n",
    "        self.symbol = ''\n",
    "        self.is_open = None\n",
    "\n",
    "        self.open_price = ''\n",
    "        self.close_price = ''\n",
    "\n",
    "        self.open_date = ''\n",
    "        self.close_date = ''\n",
    "\n",
    "        self.fee_open = ''\n",
    "        self.fee_close = ''\n",
    "\n",
    "        self.sell_reason = ''\n",
    "\n",
    "        self.timeframe = ''\n",
    "        self.strategy = ''\n",
    "\n",
    "    @classmethod\n",
    "    def open(cls):\n",
    "        pass\n",
    "    \n",
    "    @classmethod\n",
    "    def close(cls):\n",
    "        \n",
    "    def to_csv(self):\n",
    "        pass\n"
   ]
  },
  {
   "cell_type": "code",
   "execution_count": 2,
   "metadata": {},
   "outputs": [],
   "source": [
    "trade = Trade()"
   ]
  },
  {
   "cell_type": "code",
   "execution_count": 4,
   "metadata": {},
   "outputs": [
    {
     "data": {
      "text/plain": [
       "False"
      ]
     },
     "execution_count": 4,
     "metadata": {},
     "output_type": "execute_result"
    }
   ],
   "source": [
    "trade.is_open"
   ]
  },
  {
   "cell_type": "code",
   "execution_count": 5,
   "metadata": {},
   "outputs": [
    {
     "data": {
      "text/plain": [
       "[]"
      ]
     },
     "execution_count": 5,
     "metadata": {},
     "output_type": "execute_result"
    }
   ],
   "source": [
    "Trade.trades"
   ]
  },
  {
   "cell_type": "code",
   "execution_count": 13,
   "metadata": {},
   "outputs": [],
   "source": [
    "trade.save()\n",
    "trade.save()"
   ]
  },
  {
   "cell_type": "code",
   "execution_count": 14,
   "metadata": {},
   "outputs": [
    {
     "data": {
      "text/plain": [
       "[<__main__.Trade at 0x1043d9588>,\n",
       " <__main__.Trade at 0x1043d9588>,\n",
       " <__main__.Trade at 0x1043d9588>,\n",
       " <__main__.Trade at 0x1043d9588>,\n",
       " <__main__.Trade at 0x1043d9588>]"
      ]
     },
     "execution_count": 14,
     "metadata": {},
     "output_type": "execute_result"
    }
   ],
   "source": [
    "Trade.trades"
   ]
  },
  {
   "cell_type": "code",
   "execution_count": null,
   "metadata": {},
   "outputs": [],
   "source": []
  }
 ],
 "metadata": {
  "kernelspec": {
   "display_name": "Python 3",
   "language": "python",
   "name": "python3"
  },
  "language_info": {
   "codemirror_mode": {
    "name": "ipython",
    "version": 3
   },
   "file_extension": ".py",
   "mimetype": "text/x-python",
   "name": "python",
   "nbconvert_exporter": "python",
   "pygments_lexer": "ipython3",
   "version": "3.7.3"
  }
 },
 "nbformat": 4,
 "nbformat_minor": 2
}
