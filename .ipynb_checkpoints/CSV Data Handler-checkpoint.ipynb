{
 "cells": [
  {
   "cell_type": "code",
   "execution_count": 92,
   "metadata": {},
   "outputs": [],
   "source": [
    "import numpy as np\n",
    "import pandas as pd\n",
    "from datetime import datetime\n",
    "from pathlib import Path"
   ]
  },
  {
   "cell_type": "code",
   "execution_count": 125,
   "metadata": {},
   "outputs": [],
   "source": [
    "class CSVDataHandler:\n",
    "    def __init__(self, csv_dir, symbol_list, timeframe):\n",
    "        self.csv_dir = csv_dir\n",
    "        self.symbol_list = symbol_list\n",
    "        self.timeframe = timeframe\n",
    "        \n",
    "        self.symbol_data = dict()\n",
    "        self.latest_symbol_data = dict()\n",
    "        \n",
    "        self._init_symbol_data()\n",
    "        \n",
    "    def _init_symbol_data(self):\n",
    "        csv_files_path = f'{Path().absolute()}/{self.csv_dir}'\n",
    "        columns = ['datetime', 'open', 'high', 'low', 'close', 'volume']\n",
    "        combined_symbol_index = None\n",
    "        \n",
    "        for symbol in symbol_list:\n",
    "            symbol_csv_path = f'{csv_files_path}/{symbol}_{self.timeframe}.csv'\n",
    "            self.symbol_data[symbol] = pd.read_csv(symbol_csv_path, header=None, index_col=0, names=columns)\n",
    "            \n",
    "            self.symbol_data[symbol].index = pd.to_datetime(self.symbol_data[symbol].index, unit='ms')\n",
    "            self.symbol_data[symbol] = self.symbol_data[symbol].drop_duplicates()\n",
    "            self.symbol_data[symbol] = self.symbol_data[symbol].sort_index()\n",
    "            \n",
    "            if combined_symbol_index is None:\n",
    "                combined_symbol_index = self.symbol_data[symbol].index\n",
    "            else:\n",
    "                combined_symbol_index = combined_symbol_index.union(self.symbol_data[symbol].index)\n",
    "            \n",
    "            self.latest_symbol_data[symbol] = list()\n",
    "            \n",
    "        for symbol in symbol_list:\n",
    "            self.symbol_data[symbol] = self.symbol_data[symbol].reindex(index=combined_symbol_index, method='pad', fill_value=0)\n"
   ]
  },
  {
   "cell_type": "code",
   "execution_count": 126,
   "metadata": {},
   "outputs": [],
   "source": [
    "symbol_list = ['BTC-USDT', 'ETH-BTC']\n",
    "data_handler = CSVDataHandler('exchange_data', symbol_list, timeframe='1h')"
   ]
  },
  {
   "cell_type": "code",
   "execution_count": 127,
   "metadata": {},
   "outputs": [
    {
     "data": {
      "text/plain": [
       "17204"
      ]
     },
     "execution_count": 127,
     "metadata": {},
     "output_type": "execute_result"
    }
   ],
   "source": [
    "len(data_handler.symbol_data['BTC-USDT'])"
   ]
  },
  {
   "cell_type": "code",
   "execution_count": 128,
   "metadata": {},
   "outputs": [
    {
     "data": {
      "text/plain": [
       "17204"
      ]
     },
     "execution_count": 128,
     "metadata": {},
     "output_type": "execute_result"
    }
   ],
   "source": [
    "len(data_handler.symbol_data['ETH-BTC'])"
   ]
  },
  {
   "cell_type": "code",
   "execution_count": 129,
   "metadata": {},
   "outputs": [
    {
     "data": {
      "text/plain": [
       "17204"
      ]
     },
     "execution_count": 129,
     "metadata": {},
     "output_type": "execute_result"
    }
   ],
   "source": [
    "combined_index = data_handler.symbol_data['ETH-BTC'].index\n",
    "len(combined_index)"
   ]
  },
  {
   "cell_type": "code",
   "execution_count": 130,
   "metadata": {},
   "outputs": [
    {
     "data": {
      "text/plain": [
       "17204"
      ]
     },
     "execution_count": 130,
     "metadata": {},
     "output_type": "execute_result"
    }
   ],
   "source": [
    "combined_index = combined_index.union(data_handler.symbol_data['BTC-USDT'].index)\n",
    "len(combined_index)"
   ]
  },
  {
   "cell_type": "code",
   "execution_count": 135,
   "metadata": {},
   "outputs": [
    {
     "data": {
      "text/plain": [
       "inf"
      ]
     },
     "execution_count": 135,
     "metadata": {},
     "output_type": "execute_result"
    }
   ],
   "source": [
    "data_handler.symbol_data['BTC-USDT']['open'].sum()"
   ]
  },
  {
   "cell_type": "code",
   "execution_count": 124,
   "metadata": {},
   "outputs": [
    {
     "data": {
      "text/plain": [
       "array([    0.  ,     0.  ,     0.  , ..., 10055.71,  9991.23, 10538.38])"
      ]
     },
     "execution_count": 124,
     "metadata": {},
     "output_type": "execute_result"
    }
   ],
   "source": [
    "data_handler.symbol_data['BTC-USDT']['open'].to_numpy()"
   ]
  },
  {
   "cell_type": "code",
   "execution_count": null,
   "metadata": {},
   "outputs": [],
   "source": []
  },
  {
   "cell_type": "code",
   "execution_count": null,
   "metadata": {},
   "outputs": [],
   "source": []
  }
 ],
 "metadata": {
  "kernelspec": {
   "display_name": "Python 3",
   "language": "python",
   "name": "python3"
  },
  "language_info": {
   "codemirror_mode": {
    "name": "ipython",
    "version": 3
   },
   "file_extension": ".py",
   "mimetype": "text/x-python",
   "name": "python",
   "nbconvert_exporter": "python",
   "pygments_lexer": "ipython3",
   "version": "3.7.3"
  }
 },
 "nbformat": 4,
 "nbformat_minor": 2
}
